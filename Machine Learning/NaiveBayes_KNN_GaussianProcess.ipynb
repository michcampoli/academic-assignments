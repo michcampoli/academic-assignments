{
  "nbformat": 4,
  "nbformat_minor": 0,
  "metadata": {
    "colab": {
      "provenance": []
    },
    "kernelspec": {
      "name": "python3",
      "display_name": "Python 3"
    },
    "language_info": {
      "name": "python"
    }
  },
  "cells": [
    {
      "cell_type": "markdown",
      "source": [
        "Michelle Campoli (mec2308)\\\n",
        "Homework 2 \\\n",
        "Problem 2 & 3"
      ],
      "metadata": {
        "id": "Kx0UvlXLXTnj"
      }
    },
    {
      "cell_type": "code",
      "execution_count": null,
      "metadata": {
        "colab": {
          "base_uri": "https://localhost:8080/"
        },
        "id": "dXe6Y5NDW7cG",
        "outputId": "82f31193-8e5d-49eb-f062-24b6513c68a8"
      },
      "outputs": [
        {
          "output_type": "stream",
          "name": "stdout",
          "text": [
            "Mounted at /content/drive\n"
          ]
        }
      ],
      "source": [
        "# Mount to Google Drive\n",
        "from google.colab import drive\n",
        "drive.mount('/content/drive')"
      ]
    },
    {
      "cell_type": "code",
      "source": [
        " # unzip files: homework2 and homework1 data\n",
        "import zipfile\n",
        "\n",
        "with zipfile.ZipFile('/content/drive/MyDrive/ELENE4720_ML_Signals/Homework_2/hw2-data.zip', 'r') as zip_ref:\n",
        "    zip_ref.extractall('/content/drive/MyDrive/ELENE4720_ML_Signals/Homework_2')\n",
        "\n",
        "with zipfile.ZipFile('/content/drive/MyDrive/ELENE4720_ML_Signals/Homework_2/hw1-data-1.zip', 'r') as zip_ref:\n",
        "    zip_ref.extractall('/content/drive/MyDrive/ELENE4720_ML_Signals/Homework_2')"
      ],
      "metadata": {
        "id": "7nayxO_xXbRe"
      },
      "execution_count": null,
      "outputs": []
    },
    {
      "cell_type": "markdown",
      "source": [
        "Problem 2\n",
        "\n"
      ],
      "metadata": {
        "id": "PhAJdHkehyjc"
      }
    },
    {
      "cell_type": "code",
      "source": [
        "# Baye's Classifier data\n",
        "# unzipped files: y.csv X.csv README\n",
        "import pandas as pd\n",
        "from sklearn.model_selection import KFold\n",
        "\n",
        "X = pd.read_csv(\"/content/drive/MyDrive/ELENE4720_ML_Signals/Homework_2/Bayes_classifier/X.csv\", header= None).values\n",
        "y = pd.read_csv(\"/content/drive/MyDrive/ELENE4720_ML_Signals/Homework_2/Bayes_classifier/y.csv\", header= None).values\n",
        "kf = KFold(n_splits=10,shuffle=True,random_state=0)"
      ],
      "metadata": {
        "id": "W5SY3k75gBEW"
      },
      "execution_count": null,
      "outputs": []
    },
    {
      "cell_type": "code",
      "source": [
        "# each row is an email. each column is a word/symbol acting as its own dimension of x. \n",
        "# The number of times each word/symbol appears is recorded per row.\n",
        "X[:5]"
      ],
      "metadata": {
        "colab": {
          "base_uri": "https://localhost:8080/"
        },
        "id": "h35QFuVTigv4",
        "outputId": "7e123780-4b00-4286-ec9e-868a9b3810da"
      },
      "execution_count": null,
      "outputs": [
        {
          "output_type": "execute_result",
          "data": {
            "text/plain": [
              "array([[ 0,  6,  6,  0,  3,  0,  0,  0,  0,  0,  0,  6,  0,  0,  0,  3,\n",
              "         0, 13, 19,  0, 10,  0,  0,  0,  0,  0,  0,  0,  0,  0,  0,  0,\n",
              "         0,  0,  0,  0,  0,  0,  0,  0,  0,  0,  0,  0,  0,  0,  0,  0,\n",
              "         0,  0,  0,  8,  0,  0],\n",
              "       [ 2,  3,  5,  0,  1,  3,  2,  1,  0,  9,  2,  8,  7,  2,  1,  1,\n",
              "         1,  3, 35,  0, 16,  0,  4,  4,  0,  0,  0,  0,  0,  0,  0,  0,\n",
              "         0,  0,  0,  0,  1,  0,  0,  0,  0,  0,  0,  0,  0,  0,  0,  0,\n",
              "         0,  1,  0,  4,  2,  0],\n",
              "       [ 1,  0,  7,  0, 12,  2,  2,  1,  6,  3,  4,  5,  1,  0, 18,  1,\n",
              "         1, 10, 14,  3,  5,  0, 12,  1,  0,  0,  0,  0,  0,  0,  0,  0,\n",
              "         0,  0,  0,  0,  0,  0,  0,  1,  0,  0,  1,  0,  1,  1,  0,  0,\n",
              "         0,  1,  0,  3,  2,  0],\n",
              "       [ 0,  0,  0,  0,  6,  0,  3,  6,  3,  6,  3,  3,  3,  0,  0,  3,\n",
              "         0,  0, 32,  0,  3,  0,  0,  0,  0,  0,  0,  0,  0,  0,  0,  0,\n",
              "         0,  0,  0,  0,  0,  0,  0,  0,  0,  0,  0,  0,  0,  0,  0,  0,\n",
              "         0,  1,  0,  1,  0,  0],\n",
              "       [ 0,  0,  0,  0,  6,  0,  3,  6,  3,  6,  3,  3,  3,  0,  0,  3,\n",
              "         0,  0, 32,  0,  3,  0,  0,  0,  0,  0,  0,  0,  0,  0,  0,  0,\n",
              "         0,  0,  0,  0,  0,  0,  0,  0,  0,  0,  0,  0,  0,  0,  0,  0,\n",
              "         0,  1,  0,  1,  0,  0]])"
            ]
          },
          "metadata": {},
          "execution_count": 69
        }
      ]
    },
    {
      "cell_type": "code",
      "source": [
        "# 0 = spam, 1 = not spam\n",
        "y[:5,:5]"
      ],
      "metadata": {
        "id": "7AkPBkZKinAh",
        "outputId": "4458e9e5-429f-4bf7-ff05-9694cd242447",
        "colab": {
          "base_uri": "https://localhost:8080/"
        }
      },
      "execution_count": null,
      "outputs": [
        {
          "output_type": "execute_result",
          "data": {
            "text/plain": [
              "array([[1],\n",
              "       [1],\n",
              "       [1],\n",
              "       [1],\n",
              "       [1]])"
            ]
          },
          "metadata": {},
          "execution_count": 70
        }
      ]
    },
    {
      "cell_type": "code",
      "source": [
        "# function for confusion matrix\n",
        "def compute_confusion_matrix(y_test,y_prediction):\n",
        "    TP = 0\n",
        "    FP = 0\n",
        "    TN = 0\n",
        "    FN = 0    \n",
        "    for i in range(len(y_test)):\n",
        "        if(y_prediction[i] == y_test[i]):\n",
        "            if(y_prediction[i] == 0):\n",
        "                TN+=1\n",
        "            else:\n",
        "                TP+=1\n",
        "        else:\n",
        "            if(y_prediction[i] == 0):\n",
        "                FN+=1\n",
        "            else:\n",
        "                FP+=1\n",
        "    return [TP,FP,FN,TN]"
      ],
      "metadata": {
        "id": "1wD_LyTeSeBf"
      },
      "execution_count": null,
      "outputs": []
    },
    {
      "cell_type": "code",
      "source": [
        "# Naive Bayes function\n",
        "import numpy as np\n",
        "import math\n",
        "from scipy.stats import poisson\n",
        "from sklearn.metrics import pairwise_distances\n",
        "\n",
        "TP = []\n",
        "FP = []\n",
        "TN = []\n",
        "FN = []\n",
        "\n",
        "lambda0=[]\n",
        "lambda1=[]\n",
        "\n",
        "\n",
        "for train_index,test_index in kf.split(X):\n",
        "    X_train,X_test = X[train_index],X[test_index]\n",
        "    y_train,y_test = y[train_index],y[test_index]\n",
        "    \n",
        "    py0 = len(np.where(y_train == 0)[0])/len(X_train)\n",
        "    py1 = len(np.where(y_train == 1)[0])/len(X_train)\n",
        "    \n",
        "    lambda_0_values = []\n",
        "    lambda_1_values = []\n",
        "    \n",
        "    for j in range(len(X_train[0])):\n",
        "        lambda0_numerator = 1\n",
        "        lambda0_denominator = 1\n",
        "        lambda1_numerator = 1\n",
        "        lambda1_denominator = 1\n",
        "\n",
        "        for i in range(len(X_train)):\n",
        "            lambda1_numerator+=(y_train[i] * X_train[i][j])\n",
        "            lambda1_denominator+=(y_train[i])\n",
        "     \n",
        "            lambda0_numerator+=((1-y_train[i]) * X_train[i][j])\n",
        "            lambda0_denominator+=(1-y_train[i])\n",
        "        lambda_0_values.append((lambda0_numerator/lambda0_denominator)[0])\n",
        "        lambda_1_values.append((lambda1_numerator/lambda1_denominator)[0])\n",
        "        \n",
        "    lambda0.append(lambda_0_values)\n",
        "    lambda1.append(lambda_1_values)\n",
        "    y_predictions = []\n",
        "    \n",
        "    for i in range(len(X_test)):\n",
        "        \n",
        "        y_prob = []\n",
        "        product_0 = 1\n",
        "        product_1 = 1\n",
        "\n",
        "        for j in range(len(X_test[0])):\n",
        "            poisson_prob_0 = poisson.pmf(X_test[i][j],lambda_0_values[j])\n",
        "            poisson_prob_1 = poisson.pmf(X_test[i][j],lambda_1_values[j])\n",
        "            \n",
        "            product_0*=poisson_prob_0\n",
        "            product_1*=poisson_prob_1\n",
        "        \n",
        "        y_prob.append(product_0*py0)\n",
        "        y_prob.append(product_1*py1)\n",
        "\n",
        "        y_predictions.append(np.argmax(y_prob))\n",
        "        \n",
        "    results = compute_confusion_matrix(y_test,y_predictions)\n",
        "    \n",
        "    TP.append(results[0])\n",
        "    FP.append(results[1])\n",
        "    FN.append(results[2])\n",
        "    TN.append(results[3])"
      ],
      "metadata": {
        "id": "yOI3D_11iEob"
      },
      "execution_count": null,
      "outputs": []
    },
    {
      "cell_type": "code",
      "source": [
        "# compute confusion matrix\n",
        "\n",
        "confusion_matrix = [[sum(TP),sum(FP)],[sum(FN),sum(TN)]]\n",
        "print(\"The Confusion Matrix is:\")\n",
        "\n",
        "print(confusion_matrix[0])\n",
        "print(confusion_matrix[1])\n",
        "\n",
        "# compute accuracy\n",
        "print(\"The Accuracy is:\", ((confusion_matrix[0][0] + confusion_matrix[1][1]) / 4600))"
      ],
      "metadata": {
        "id": "pB96vov6iNQe",
        "colab": {
          "base_uri": "https://localhost:8080/"
        },
        "outputId": "255b710b-c4ad-4bae-d523-c54c27c01201"
      },
      "execution_count": null,
      "outputs": [
        {
          "output_type": "stream",
          "name": "stdout",
          "text": [
            "The Confusion Matrix is:\n",
            "[1705, 491]\n",
            "[108, 2296]\n",
            "The Accuracy is: 0.8697826086956522\n"
          ]
        }
      ]
    },
    {
      "cell_type": "code",
      "source": [
        "avg_poisson_parameter_0 = np.mean(lambda0, axis=0)\n",
        "avg_poisson_parameter_1 = np.mean(lambda1, axis=0)"
      ],
      "metadata": {
        "id": "0CogwzTymI8l"
      },
      "execution_count": null,
      "outputs": []
    },
    {
      "cell_type": "code",
      "source": [
        "# stem plot for poisson parameters\n",
        "import matplotlib.pyplot as plt\n",
        "\n",
        "fig1, ax = plt.subplots(nrows=2, ncols=1, figsize=(15, 10))\n",
        "ax[0].stem(range(1,55),avg_poisson_parameter_0)\n",
        "ax[0].set_title(\"Stem plot of Poisson Parameters ($y$= 0, Not Spam)\")\n",
        "ax[0].set_xlabel(\"feature (D)\")\n",
        "ax[0].set_ylabel(\"$\\lambda_{0,D}$\")\n",
        "ax[0].set_xticks(np.arange(1,55, step=1))\n",
        "\n",
        "ax[1].stem(range(1,55),avg_poisson_parameter_1)\n",
        "ax[1].set_title(\"Stem plot of Poisson Parameters ($y$= 1, Spam)\")\n",
        "ax[1].set_xlabel(\"feature (D)\")\n",
        "ax[1].set_ylabel(\"$\\lambda_{1,D}$\")\n",
        "ax[1].set_xticks(np.arange(1,55, step=1))\n",
        "plt.show()\n",
        "\n",
        "#save plot\n",
        "fig1.savefig('/content/drive/MyDrive/ELENE4720_ML_Signals/Homework_2/stem_plots.jpeg')"
      ],
      "metadata": {
        "colab": {
          "base_uri": "https://localhost:8080/",
          "height": 708
        },
        "id": "C2ggsYyYmJjD",
        "outputId": "51865147-07ee-4748-baa6-2cd08aa3ac10"
      },
      "execution_count": null,
      "outputs": [
        {
          "output_type": "stream",
          "name": "stderr",
          "text": [
            "/usr/local/lib/python3.7/dist-packages/ipykernel_launcher.py:5: UserWarning: In Matplotlib 3.3 individual lines on a stem plot will be added as a LineCollection instead of individual lines. This significantly improves the performance of a stem plot. To remove this warning and switch to the new behaviour, set the \"use_line_collection\" keyword argument to True.\n",
            "  \"\"\"\n",
            "/usr/local/lib/python3.7/dist-packages/ipykernel_launcher.py:11: UserWarning: In Matplotlib 3.3 individual lines on a stem plot will be added as a LineCollection instead of individual lines. This significantly improves the performance of a stem plot. To remove this warning and switch to the new behaviour, set the \"use_line_collection\" keyword argument to True.\n",
            "  # This is added back by InteractiveShellApp.init_path()\n"
          ]
        },
        {
          "output_type": "display_data",
          "data": {
            "text/plain": [
              "<Figure size 1080x720 with 2 Axes>"
            ],
            "image/png": "[encoded data removed]"
          },
          "metadata": {
            "needs_background": "light"
          }
        }
      ]
    },
    {
      "cell_type": "code",
      "source": [
        "# overlap stem plots\n",
        "plt.figure(figsize=(15, 5))\n",
        "plt.stem(range(1,55), avg_poisson_parameter_0, \"blue\", markerfmt=\"bo\", label=\"$y$= 0, Not Spam\")\n",
        "plt.stem(range(1,55), avg_poisson_parameter_1, \"red\", markerfmt=\"ro\", label=\"$y$= 1, Spam\")\n",
        "plt.title(\"Stem plot of Poisson Parameters\")\n",
        "plt.xlabel(\"Feature (D)\")\n",
        "plt.ylabel(\"$\\lambda_{y_i,D}$\")\n",
        "plt.xticks(np.arange(1,55, step=1))\n",
        "plt.legend()\n",
        "fig2 = plt.gcf()\n",
        "plt.show()\n",
        "\n",
        "# save figure\n",
        "fig2.savefig('/content/drive/MyDrive/ELENE4720_ML_Signals/Homework_2/stem_plot_overlay.jpeg')\n",
        "plt.show()"
      ],
      "metadata": {
        "colab": {
          "base_uri": "https://localhost:8080/",
          "height": 435
        },
        "id": "IXX38eh2mPP2",
        "outputId": "bab58ca5-36de-46b4-8fcd-9caa78896e8d"
      },
      "execution_count": null,
      "outputs": [
        {
          "output_type": "stream",
          "name": "stderr",
          "text": [
            "/usr/local/lib/python3.7/dist-packages/ipykernel_launcher.py:2: UserWarning: In Matplotlib 3.3 individual lines on a stem plot will be added as a LineCollection instead of individual lines. This significantly improves the performance of a stem plot. To remove this warning and switch to the new behaviour, set the \"use_line_collection\" keyword argument to True.\n",
            "  \n",
            "/usr/local/lib/python3.7/dist-packages/ipykernel_launcher.py:3: UserWarning: In Matplotlib 3.3 individual lines on a stem plot will be added as a LineCollection instead of individual lines. This significantly improves the performance of a stem plot. To remove this warning and switch to the new behaviour, set the \"use_line_collection\" keyword argument to True.\n",
            "  This is separate from the ipykernel package so we can avoid doing imports until\n"
          ]
        },
        {
          "output_type": "display_data",
          "data": {
            "text/plain": [
              "<Figure size 1080x360 with 1 Axes>"
            ],
            "image/png": "[encoded data removed]"
          },
          "metadata": {
            "needs_background": "light"
          }
        }
      ]
    },
    {
      "cell_type": "code",
      "source": [
        "# KNN classifier\n",
        "TP = []\n",
        "FP = []\n",
        "TN = []\n",
        "FN = []\n",
        "all_predictions=[]\n",
        "all_labels = []\n",
        "for train_index,test_index in kf.split(X):\n",
        "    X_train,X_test = X[train_index],X[test_index]\n",
        "    y_train,y_test = y[train_index],y[test_index]\n",
        "    all_labels.append([i[0] for i in y_test])\n",
        "    tp = np.zeros(shape = (20))\n",
        "    fp = np.zeros(shape = (20))\n",
        "    fn = np.zeros(shape = (20))\n",
        "    tn = np.zeros(shape = (20))\n",
        "    mean = np.mean(X_train,axis=0)\n",
        "    std = np.std(X_train,axis=0)\n",
        "    X_train = (X_train - mean)/std\n",
        "    X_test = (X_test - mean)/std\n",
        "    predictions=[]\n",
        "    for row in range(len(X_test)):\n",
        "        distances=[]\n",
        "        #computing the distance matrix\n",
        "        for j in X_train:\n",
        "            distances.append(np.sum(np.abs(X_test[row]-j)))\n",
        "#       Finding 20 Nearest neighbours of the test sample. \n",
        "#       list_neighbours = [i[0] for i in sorted(enumerate(distances), key=lambda x:x[1])][:20]\n",
        "        list_neighbours = np.argsort(distances)[:20]\n",
        "        pred = []\n",
        "        for k in range(1,21):\n",
        "            count_1 = len(np.where(y_train[list_neighbours[:k]] == 1)[0])\n",
        "            count_0 = len(np.where(y_train[list_neighbours[:k]] == 0)[0])\n",
        "            # picking the nearest neighbour's label in the case of tie.\n",
        "            if(count_1==count_0):\n",
        "                temp_prediction = y_train[list_neighbours[0]][0]\n",
        "                pred.append(temp_prediction)\n",
        "                if(temp_prediction == y_test[row][0]):\n",
        "                    if(temp_prediction == 1):\n",
        "                        tp[k-1]+=1\n",
        "                    else:\n",
        "                        tn[k-1]+=1\n",
        "                else:\n",
        "                    if(temp_prediction == 1):\n",
        "                        fp[k-1]+=1\n",
        "                    else:\n",
        "                        fn[k-1]+=1\n",
        "            elif(count_1>count_0):\n",
        "                temp_prediction = 1\n",
        "                pred.append(temp_prediction)\n",
        "                if(temp_prediction == y_test[row][0]):\n",
        "                    tp[k-1]+=1\n",
        "                else:\n",
        "                    fp[k-1]+=1\n",
        "            else:\n",
        "                temp_prediction = 0\n",
        "                pred.append(temp_prediction)\n",
        "                if(temp_prediction == y_test[row][0]):\n",
        "                    tn[k-1]+=1\n",
        "                else:\n",
        "                    fn[k-1]+=1\n",
        "        predictions.append(pred)\n",
        "    all_predictions.append(predictions)\n",
        "    TP.append(list(tp))\n",
        "    FP.append(list(fp))\n",
        "    TN.append(list(tn))\n",
        "    FN.append(list(fn))"
      ],
      "metadata": {
        "id": "8AKQb19AD7jU"
      },
      "execution_count": null,
      "outputs": []
    },
    {
      "cell_type": "code",
      "source": [
        "# compute accuracy values based on confusion matrix diagonal/4600\n",
        "TP_list = (list(np.sum(TP,axis=0)))\n",
        "FP_list = (list(np.sum(FP,axis=0)))\n",
        "FN_list = (list(np.sum(FN,axis=0)))\n",
        "TN_list = (list(np.sum(TN,axis=0)))\n",
        "prediction_accuracies_cumulative = []\n",
        "for i in range(20):\n",
        "    prediction_accuracies_cumulative.append((TP_list[i] + TN_list[i])/\n",
        "                                            (TP_list[i] + TN_list[i] + FP_list[i] + FN_list[i]))"
      ],
      "metadata": {
        "id": "rsrejgKHElyd"
      },
      "execution_count": null,
      "outputs": []
    },
    {
      "cell_type": "code",
      "source": [
        "# plot prediction accuracies as a function of k\n",
        "plt.plot(range(1,21),prediction_accuracies_cumulative)\n",
        "plt.scatter(range(1,21),prediction_accuracies_cumulative)\n",
        "plt.title(\"Accuracy v. K\")\n",
        "plt.xlabel(\"K\")\n",
        "plt.ylabel(\"Accuracy\")\n",
        "plt.xticks(np.arange(1,21, step=1))\n",
        "fig3 = plt.gcf()\n",
        "plt.show()\n",
        "\n",
        "# save figure\n",
        "fig3.savefig('/content/drive/MyDrive/ELENE4720_ML_Signals/Homework_2/knn_accuracy_plot.jpeg')\n",
        "plt.show()"
      ],
      "metadata": {
        "colab": {
          "base_uri": "https://localhost:8080/",
          "height": 294
        },
        "id": "Bd-3VRYWEmNJ",
        "outputId": "21539120-e76b-4b7b-a190-4f6d15572dec"
      },
      "execution_count": null,
      "outputs": [
        {
          "output_type": "display_data",
          "data": {
            "text/plain": [
              "<Figure size 432x288 with 1 Axes>"
            ],
            "image/png": "[encoded data removed]"
          },
          "metadata": {
            "needs_background": "light"
          }
        }
      ]
    },
    {
      "cell_type": "markdown",
      "source": [
        "Problem 3"
      ],
      "metadata": {
        "id": "TYaak1uQExZs"
      }
    },
    {
      "cell_type": "code",
      "source": [
        "# homework 1 data \n",
        "# unzipped files: y_train.csv, y_test.csv, X_train.csv, X_test.csv\n",
        "# import data\n",
        "\n",
        "y_train = pd.read_csv(r'/content/drive/MyDrive/ELENE4720_ML_Signals/Homework_2/Gaussian_process/y_train.csv', header=None).values\n",
        "y_test = pd.read_csv(r'/content/drive/MyDrive/ELENE4720_ML_Signals/Homework_2/Gaussian_process/y_test.csv', header=None).values\n",
        "X_train = pd.read_csv(r'/content/drive/MyDrive/ELENE4720_ML_Signals/Homework_2/Gaussian_process/X_train.csv', header=None).values\n",
        "X_test = pd.read_csv(r'/content/drive/MyDrive/ELENE4720_ML_Signals/Homework_2/Gaussian_process/X_test.csv', header=None).values"
      ],
      "metadata": {
        "id": "CIpBQ2WpXdt1"
      },
      "execution_count": null,
      "outputs": []
    },
    {
      "cell_type": "code",
      "source": [
        "# root mean squared error function (RMSE)\n",
        "\n",
        "def RMSE(y_predicted,y_test):\n",
        "    y_predicted = np.array(y_predicted)\n",
        "    y_test = np.array(y_test)\n",
        "    return np.sqrt(np.sum((y_predicted - y_test)**2)/len(y_test))"
      ],
      "metadata": {
        "id": "XKnjgm-YFg_V"
      },
      "execution_count": null,
      "outputs": []
    },
    {
      "cell_type": "code",
      "source": [
        "# Gaussian process function\n",
        "\n",
        "class Gaussian_process:\n",
        "    def __init__(self,X_train,y_train, sigma2, b):\n",
        "        self.sigma2 = sigma2\n",
        "        self.b = b\n",
        "        self.X_train = X_train\n",
        "        self.y_train = y_train\n",
        "        \n",
        "    def Kernel(self,xi,xj):\n",
        "        return math.exp((-1/self.b) * np.sum((xi -xj)**2))\n",
        "    \n",
        "    def fit(self):\n",
        "        K = []\n",
        "        for i in self.X_train:\n",
        "            temp = []\n",
        "            for j in self.X_train:\n",
        "                temp.append(self.Kernel(i,j))\n",
        "            K.append(temp)\n",
        "        self.K = np.asarray(K)\n",
        "        \n",
        "    def predict(self,x0):\n",
        "        temp = []\n",
        "        for j in self.X_train:\n",
        "            temp.append(self.Kernel(x0,j))\n",
        "        KxD = np.asarray(temp)\n",
        "        sigma2I = self.sigma2 * np.identity(self.K.shape[0])\n",
        "        mean = (np.matmul(np.matmul(KxD,np.linalg.inv(sigma2I + self.K)), self.y_train))[0] # mean of gaussian process as prediction\n",
        "        variance = self.sigma2 + self.Kernel(x0,x0) + np.matmul(np.matmul(KxD,np.linalg.inv(sigma2I + self.K)), np.transpose(KxD))\n",
        "        \n",
        "        return [mean,variance]"
      ],
      "metadata": {
        "id": "cr4sY6OsFmAe"
      },
      "execution_count": null,
      "outputs": []
    },
    {
      "cell_type": "code",
      "source": [
        "# set b = {5,7,9,11,13,15} and sigma^2 = {.1,.2,.3,.4,.5,.6,.7,.8,.9,1} \n",
        "# (b, sigma^2)\n",
        "B = [5,7,9,11,13,15]\n",
        "Sigma2 = [0.1,0.2,0.3,0.4,0.5,0.6,0.7,0.8,0.9,1]"
      ],
      "metadata": {
        "id": "XiQLTuQCFswO"
      },
      "execution_count": null,
      "outputs": []
    },
    {
      "cell_type": "code",
      "source": [
        "# calculate RMSE on the 42 test points as in hw 1. use the mean of the gaussian process at the test point as your prediction\n",
        "RMSES = []\n",
        "y_test = [i[0] for i in y_test]\n",
        "for b in B:\n",
        "    temp = [] \n",
        "    for sigma2 in Sigma2:\n",
        "        y_predicted = []\n",
        "        process = Gaussian_process(X_train,y_train,sigma2 = sigma2, b = b)\n",
        "        process.fit()\n",
        "        for i in X_test:\n",
        "            y_predicted.append(process.predict(i)[0])\n",
        "        temp.append(RMSE(y_predicted,y_test))\n",
        "    RMSES.append(temp)"
      ],
      "metadata": {
        "id": "ifOsgzumFuvp"
      },
      "execution_count": null,
      "outputs": []
    },
    {
      "cell_type": "code",
      "source": [
        "# table showing rmse values per pair\n",
        "rmse_values = pd.DataFrame(RMSES, columns = Sigma2, index = B)\n",
        "rmse_values"
      ],
      "metadata": {
        "colab": {
          "base_uri": "https://localhost:8080/",
          "height": 231
        },
        "id": "41mzBYLeFweo",
        "outputId": "672dff84-aa90-4792-f59e-3a3042ccb80d"
      },
      "execution_count": null,
      "outputs": [
        {
          "output_type": "execute_result",
          "data": {
            "text/plain": [
              "         0.1       0.2       0.3       0.4       0.5       0.6       0.7  \\\n",
              "5   1.966277  1.933137  1.923422  1.922199  1.924771  1.929215  1.934636   \n",
              "7   1.920164  1.904878  1.908082  1.915904  1.924806  1.933704  1.942256   \n",
              "9   1.897650  1.902521  1.917650  1.932517  1.945702  1.957237  1.967406   \n",
              "11  1.890509  1.914983  1.938851  1.957939  1.973218  1.985767  1.996378   \n",
              "13  1.895850  1.935588  1.964600  1.985504  2.001317  2.013881  2.024313   \n",
              "15  1.909605  1.959551  1.990806  2.011918  2.027373  2.039467  2.049466   \n",
              "\n",
              "         0.8       0.9       1.0  \n",
              "5   1.940585  1.946822  1.953215  \n",
              "7   1.950382  1.958095  1.965440  \n",
              "9   1.976494  1.984743  1.992344  \n",
              "11  2.005606  2.013838  2.021347  \n",
              "13  2.033309  2.041320  2.048644  \n",
              "15  2.058107  2.065847  2.072978  "
            ],
            "text/html": [
              "\n",
              "  <div id=\"df-24b8bb46-7daa-4573-8a6e-98933b8d4502\">\n",
              "    <div class=\"colab-df-container\">\n",
              "      <div>\n",
              "<style scoped>\n",
              "    .dataframe tbody tr th:only-of-type {\n",
              "        vertical-align: middle;\n",
              "    }\n",
              "\n",
              "    .dataframe tbody tr th {\n",
              "        vertical-align: top;\n",
              "    }\n",
              "\n",
              "    .dataframe thead th {\n",
              "        text-align: right;\n",
              "    }\n",
              "</style>\n",
              "<table border=\"1\" class=\"dataframe\">\n",
              "  <thead>\n",
              "    <tr style=\"text-align: right;\">\n",
              "      <th></th>\n",
              "      <th>0.1</th>\n",
              "      <th>0.2</th>\n",
              "      <th>0.3</th>\n",
              "      <th>0.4</th>\n",
              "      <th>0.5</th>\n",
              "      <th>0.6</th>\n",
              "      <th>0.7</th>\n",
              "      <th>0.8</th>\n",
              "      <th>0.9</th>\n",
              "      <th>1.0</th>\n",
              "    </tr>\n",
              "  </thead>\n",
              "  <tbody>\n",
              "    <tr>\n",
              "      <th>5</th>\n",
              "      <td>1.966277</td>\n",
              "      <td>1.933137</td>\n",
              "      <td>1.923422</td>\n",
              "      <td>1.922199</td>\n",
              "      <td>1.924771</td>\n",
              "      <td>1.929215</td>\n",
              "      <td>1.934636</td>\n",
              "      <td>1.940585</td>\n",
              "      <td>1.946822</td>\n",
              "      <td>1.953215</td>\n",
              "    </tr>\n",
              "    <tr>\n",
              "      <th>7</th>\n",
              "      <td>1.920164</td>\n",
              "      <td>1.904878</td>\n",
              "      <td>1.908082</td>\n",
              "      <td>1.915904</td>\n",
              "      <td>1.924806</td>\n",
              "      <td>1.933704</td>\n",
              "      <td>1.942256</td>\n",
              "      <td>1.950382</td>\n",
              "      <td>1.958095</td>\n",
              "      <td>1.965440</td>\n",
              "    </tr>\n",
              "    <tr>\n",
              "      <th>9</th>\n",
              "      <td>1.897650</td>\n",
              "      <td>1.902521</td>\n",
              "      <td>1.917650</td>\n",
              "      <td>1.932517</td>\n",
              "      <td>1.945702</td>\n",
              "      <td>1.957237</td>\n",
              "      <td>1.967406</td>\n",
              "      <td>1.976494</td>\n",
              "      <td>1.984743</td>\n",
              "      <td>1.992344</td>\n",
              "    </tr>\n",
              "    <tr>\n",
              "      <th>11</th>\n",
              "      <td>1.890509</td>\n",
              "      <td>1.914983</td>\n",
              "      <td>1.938851</td>\n",
              "      <td>1.957939</td>\n",
              "      <td>1.973218</td>\n",
              "      <td>1.985767</td>\n",
              "      <td>1.996378</td>\n",
              "      <td>2.005606</td>\n",
              "      <td>2.013838</td>\n",
              "      <td>2.021347</td>\n",
              "    </tr>\n",
              "    <tr>\n",
              "      <th>13</th>\n",
              "      <td>1.895850</td>\n",
              "      <td>1.935588</td>\n",
              "      <td>1.964600</td>\n",
              "      <td>1.985504</td>\n",
              "      <td>2.001317</td>\n",
              "      <td>2.013881</td>\n",
              "      <td>2.024313</td>\n",
              "      <td>2.033309</td>\n",
              "      <td>2.041320</td>\n",
              "      <td>2.048644</td>\n",
              "    </tr>\n",
              "    <tr>\n",
              "      <th>15</th>\n",
              "      <td>1.909605</td>\n",
              "      <td>1.959551</td>\n",
              "      <td>1.990806</td>\n",
              "      <td>2.011918</td>\n",
              "      <td>2.027373</td>\n",
              "      <td>2.039467</td>\n",
              "      <td>2.049466</td>\n",
              "      <td>2.058107</td>\n",
              "      <td>2.065847</td>\n",
              "      <td>2.072978</td>\n",
              "    </tr>\n",
              "  </tbody>\n",
              "</table>\n",
              "</div>\n",
              "      <button class=\"colab-df-convert\" onclick=\"convertToInteractive('df-24b8bb46-7daa-4573-8a6e-98933b8d4502')\"\n",
              "              title=\"Convert this dataframe to an interactive table.\"\n",
              "              style=\"display:none;\">\n",
              "        \n",
              "  <svg xmlns=\"http://www.w3.org/2000/svg\" height=\"24px\"viewBox=\"0 0 24 24\"\n",
              "       width=\"24px\">\n",
              "    <path d=\"M0 0h24v24H0V0z\" fill=\"none\"/>\n",
              "    <path d=\"M18.56 5.44l.94 2.06.94-2.06 2.06-.94-2.06-.94-.94-2.06-.94 2.06-2.06.94zm-11 1L8.5 8.5l.94-2.06 2.06-.94-2.06-.94L8.5 2.5l-.94 2.06-2.06.94zm10 10l.94 2.06.94-2.06 2.06-.94-2.06-.94-.94-2.06-.94 2.06-2.06.94z\"/><path d=\"M17.41 7.96l-1.37-1.37c-.4-.4-.92-.59-1.43-.59-.52 0-1.04.2-1.43.59L10.3 9.45l-7.72 7.72c-.78.78-.78 2.05 0 2.83L4 21.41c.39.39.9.59 1.41.59.51 0 1.02-.2 1.41-.59l7.78-7.78 2.81-2.81c.8-.78.8-2.07 0-2.86zM5.41 20L4 18.59l7.72-7.72 1.47 1.35L5.41 20z\"/>\n",
              "  </svg>\n",
              "      </button>\n",
              "      \n",
              "  <style>\n",
              "    .colab-df-container {\n",
              "      display:flex;\n",
              "      flex-wrap:wrap;\n",
              "      gap: 12px;\n",
              "    }\n",
              "\n",
              "    .colab-df-convert {\n",
              "      background-color: #E8F0FE;\n",
              "      border: none;\n",
              "      border-radius: 50%;\n",
              "      cursor: pointer;\n",
              "      display: none;\n",
              "      fill: #1967D2;\n",
              "      height: 32px;\n",
              "      padding: 0 0 0 0;\n",
              "      width: 32px;\n",
              "    }\n",
              "\n",
              "    .colab-df-convert:hover {\n",
              "      background-color: #E2EBFA;\n",
              "      box-shadow: 0px 1px 2px rgba(60, 64, 67, 0.3), 0px 1px 3px 1px rgba(60, 64, 67, 0.15);\n",
              "      fill: #174EA6;\n",
              "    }\n",
              "\n",
              "    [theme=dark] .colab-df-convert {\n",
              "      background-color: #3B4455;\n",
              "      fill: #D2E3FC;\n",
              "    }\n",
              "\n",
              "    [theme=dark] .colab-df-convert:hover {\n",
              "      background-color: #434B5C;\n",
              "      box-shadow: 0px 1px 3px 1px rgba(0, 0, 0, 0.15);\n",
              "      filter: drop-shadow(0px 1px 2px rgba(0, 0, 0, 0.3));\n",
              "      fill: #FFFFFF;\n",
              "    }\n",
              "  </style>\n",
              "\n",
              "      <script>\n",
              "        const buttonEl =\n",
              "          document.querySelector('#df-24b8bb46-7daa-4573-8a6e-98933b8d4502 button.colab-df-convert');\n",
              "        buttonEl.style.display =\n",
              "          google.colab.kernel.accessAllowed ? 'block' : 'none';\n",
              "\n",
              "        async function convertToInteractive(key) {\n",
              "          const element = document.querySelector('#df-24b8bb46-7daa-4573-8a6e-98933b8d4502');\n",
              "          const dataTable =\n",
              "            await google.colab.kernel.invokeFunction('convertToInteractive',\n",
              "                                                     [key], {});\n",
              "          if (!dataTable) return;\n",
              "\n",
              "          const docLinkHtml = 'Like what you see? Visit the ' +\n",
              "            '<a target=\"_blank\" href=https://colab.research.google.com/notebooks/data_table.ipynb>data table notebook</a>'\n",
              "            + ' to learn more about interactive tables.';\n",
              "          element.innerHTML = '';\n",
              "          dataTable['output_type'] = 'display_data';\n",
              "          await google.colab.output.renderOutput(dataTable, element);\n",
              "          const docLink = document.createElement('div');\n",
              "          docLink.innerHTML = docLinkHtml;\n",
              "          element.appendChild(docLink);\n",
              "        }\n",
              "      </script>\n",
              "    </div>\n",
              "  </div>\n",
              "  "
            ]
          },
          "metadata": {},
          "execution_count": 116
        }
      ]
    },
    {
      "cell_type": "code",
      "source": [
        "# best rmse\n",
        "rmse_values.min()"
      ],
      "metadata": {
        "id": "iwJ5uEOsVtE3",
        "outputId": "c452778a-17b3-4f85-f202-33e4496e1282",
        "colab": {
          "base_uri": "https://localhost:8080/"
        }
      },
      "execution_count": null,
      "outputs": [
        {
          "output_type": "execute_result",
          "data": {
            "text/plain": [
              "0.1    1.890509\n",
              "0.2    1.902521\n",
              "0.3    1.908082\n",
              "0.4    1.915904\n",
              "0.5    1.924771\n",
              "0.6    1.929215\n",
              "0.7    1.934636\n",
              "0.8    1.940585\n",
              "0.9    1.946822\n",
              "1.0    1.953215\n",
              "dtype: float64"
            ]
          },
          "metadata": {},
          "execution_count": 137
        }
      ]
    },
    {
      "cell_type": "code",
      "source": [
        "# Re-run algorithm using only 4th dimension of xi(car weight)\n",
        "X_carweight_train = X_train[:,3] #4th dimension is indexed as 3\n",
        "X_carweight_test = X_test[:,3]"
      ],
      "metadata": {
        "id": "NadI-x-UFzUN"
      },
      "execution_count": null,
      "outputs": []
    },
    {
      "cell_type": "code",
      "source": [
        "# set b = 5, sigma^2 = 2\n",
        "b2 = 5\n",
        "sigma22 = 2"
      ],
      "metadata": {
        "id": "NIMTsRvWF5HN"
      },
      "execution_count": null,
      "outputs": []
    },
    {
      "cell_type": "code",
      "source": [
        "y_predicted_train = []\n",
        "process = Gaussian_process(X_carweight_train,y_train,sigma2 = sigma22, b = b2)\n",
        "process.fit()\n",
        "for i in X_carweight_train:\n",
        "    y_predicted_train.append(process.predict(i)[0])"
      ],
      "metadata": {
        "id": "4-8xBZCEF6Wm"
      },
      "execution_count": null,
      "outputs": []
    },
    {
      "cell_type": "code",
      "source": [
        "y_train = [i[0] for i in y_train]\n",
        "X_carweight_train = list(X_carweight_train)\n",
        "y_preds = [i for i,_ in sorted(zip(y_predicted_train,X_carweight_train), key=lambda pair: pair[1])]"
      ],
      "metadata": {
        "id": "dVEcMA-dF7wG"
      },
      "execution_count": null,
      "outputs": []
    },
    {
      "cell_type": "code",
      "source": [
        "# scatter plot of data (x[4] vs y for each point)\n",
        "plt.figure(figsize=(6,5))\n",
        "plt.scatter(X_carweight_train,y_train, label = \"true values of y\")\n",
        "plt.plot(sorted(X_carweight_train),y_preds,color=\"yellow\",linewidth=4.0,label = \"predicted values of y\")\n",
        "plt.xlabel(\"x[4] = car weight\")\n",
        "plt.ylabel(\"y = miles per gallon\")\n",
        "plt.title(\"x[4] (weight) v. y (miles per gallon)\")\n",
        "plt.legend()\n",
        "fig4 = plt.gcf()\n",
        "plt.show()\n",
        "\n",
        "# save figure\n",
        "fig4.savefig('/content/drive/MyDrive/ELENE4720_ML_Signals/Homework_2/gaussian_process_plot.jpeg')\n",
        "plt.show()"
      ],
      "metadata": {
        "colab": {
          "base_uri": "https://localhost:8080/",
          "height": 349
        },
        "id": "2eISMObKF-YV",
        "outputId": "6d7c52e3-8653-4c3b-8061-907df067e515"
      },
      "execution_count": null,
      "outputs": [
        {
          "output_type": "display_data",
          "data": {
            "text/plain": [
              "<Figure size 432x360 with 1 Axes>"
            ],
            "image/png": "[encoded data removed]"
          },
          "metadata": {
            "needs_background": "light"
          }
        }
      ]
    },
    {
      "cell_type": "code",
      "source": [],
      "metadata": {
        "id": "lM0gR3iPF_yu"
      },
      "execution_count": null,
      "outputs": []
    }
  ]
}
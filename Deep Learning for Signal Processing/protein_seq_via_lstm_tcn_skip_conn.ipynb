{
  "nbformat": 4,
  "nbformat_minor": 0,
  "metadata": {
    "colab": {
      "provenance": []
    },
    "kernelspec": {
      "name": "python3",
      "display_name": "Python 3"
    },
    "accelerator": "GPU"
  },
  "cells": [
    {
      "cell_type": "markdown",
      "metadata": {
        "id": "n1-hDaq3vSHZ"
      },
      "source": [
        "## **Classification of Protein Sequences via LSTMs and TCNs with Skip Connections**"
      ]
    },
    {
      "cell_type": "markdown",
      "metadata": {
        "id": "WqQP98EywseH"
      },
      "source": [
        "Proteins are large, complex bio-molecules responsible for carrying out multiple critical bodily functions.  They are composed of chains (long variable-order sequences with repeats) of 20 possible amino acids.  The constituent amino acids that make up a protein determine its unique structure as well as function.  In this assignment, we will use deep learning and a protein database called 'Pfam' to classify amino acid sequences into their protein families. "
      ]
    },
    {
      "cell_type": "code",
      "metadata": {
        "id": "WqJULMydYxd7"
      },
      "source": [
        "#1. First download the dataset from here: https://www.kaggle.com/googleai/pfam-seed-random-split\n",
        "#2. Upload the data folder from #1 to your Google Drive\n",
        "#MOUNTING GOOGLE DRIVE WHERE DATA IS STORED\n",
        "from google.colab import drive\n",
        "drive.mount('/gdrive/', force_remount=True)"
      ],
      "execution_count": null,
      "outputs": []
    },
    {
      "cell_type": "code",
      "metadata": {
        "id": "XHGK4KfZ00Sh",
        "colab": {
          "base_uri": "https://localhost:8080/"
        },
        "outputId": "367c80d6-af71-4221-d256-0feee745993c"
      },
      "source": [
        "#Required Imports\n",
        "%matplotlib inline\n",
        "!pip install einops\n",
        "!pip install python-Levenshtein\n",
        "\n",
        "import gc\n",
        "import os\n",
        "\n",
        "import numpy as np\n",
        "import pandas as pd\n",
        "import matplotlib.pyplot as plt\n",
        "import seaborn as sns\n",
        "\n",
        "from collections import Counter\n",
        "import itertools\n",
        "import random\n",
        "from prettytable import PrettyTable\n",
        "from IPython.display import Image\n",
        "\n",
        "from sklearn.preprocessing import LabelEncoder\n",
        "from sklearn.metrics.pairwise import euclidean_distances\n",
        "from Levenshtein import distance as levenshtein_distance\n",
        "\n",
        "from tensorflow.keras.models import Model\n",
        "from tensorflow.keras.regularizers import l2\n",
        "from tensorflow.keras.constraints import max_norm\n",
        "from tensorflow.keras.utils import to_categorical\n",
        "from tensorflow.keras.preprocessing.text import Tokenizer\n",
        "from tensorflow.keras.preprocessing.sequence import pad_sequences\n",
        "from tensorflow.keras.callbacks import EarlyStopping\n",
        "from tensorflow.keras.layers import Input, Dense, Dropout, Flatten, Activation\n",
        "from tensorflow.keras.layers import Conv1D, Add, MaxPooling1D, BatchNormalization\n",
        "from tensorflow.keras.layers import Embedding, Bidirectional, LSTM, GlobalMaxPooling1D\n"
      ],
      "execution_count": null,
      "outputs": [
        {
          "output_type": "stream",
          "name": "stdout",
          "text": [
            "Collecting einops\n",
            "  Downloading einops-0.3.2-py3-none-any.whl (25 kB)\n",
            "Installing collected packages: einops\n",
            "Successfully installed einops-0.3.2\n",
            "Collecting python-Levenshtein\n",
            "  Downloading python-Levenshtein-0.12.2.tar.gz (50 kB)\n",
            "\u001b[K     |████████████████████████████████| 50 kB 2.6 MB/s \n",
            "\u001b[?25hRequirement already satisfied: setuptools in /usr/local/lib/python3.7/dist-packages (from python-Levenshtein) (57.4.0)\n",
            "Building wheels for collected packages: python-Levenshtein\n",
            "  Building wheel for python-Levenshtein (setup.py) ... \u001b[?25l\u001b[?25hdone\n",
            "  Created wheel for python-Levenshtein: filename=python_Levenshtein-0.12.2-cp37-cp37m-linux_x86_64.whl size=149865 sha256=a8dd9bf1819e32b3553d59bb76b9e9c9ea22aff859b4d599659a3546f35c0382\n",
            "  Stored in directory: /root/.cache/pip/wheels/05/5f/ca/7c4367734892581bb5ff896f15027a932c551080b2abd3e00d\n",
            "Successfully built python-Levenshtein\n",
            "Installing collected packages: python-Levenshtein\n",
            "Successfully installed python-Levenshtein-0.12.2\n"
          ]
        }
      ]
    },
    {
      "cell_type": "code",
      "metadata": {
        "id": "eJesOG5lAg3k",
        "colab": {
          "base_uri": "https://localhost:8080/",
          "height": 275
        },
        "outputId": "e39d0053-c404-41ef-b5bd-be80ef8430c9"
      },
      "source": [
        "# Reading in the Pfam dataset\n",
        "# data is randomly split into three folders [train(80%), test(10%), dev(10%)]\n",
        "# reading and concatenating data for each folder.\n",
        "\n",
        "#data_path = '/gdrive/My Drive/Fall 2021/BMEN 4470/random_split/' #Make sure to modify to your location\n",
        "data_path = '/gdrive/My Drive/random_split/' #Make sure to modify to your location\n",
        "print('Available data', os.listdir(data_path))\n",
        "\n",
        "def read_data(partition):\n",
        "  data = []\n",
        "  for fn in os.listdir(os.path.join(data_path, partition)):\n",
        "    with open(os.path.join(data_path, partition, fn)) as f:\n",
        "      data.append(pd.read_csv(f, index_col=None))\n",
        "  return pd.concat(data)\n",
        "\n",
        "# reading all data_partitions and visualizing (head) of the data\n",
        "df_train = read_data('train')\n",
        "df_val = read_data('dev')\n",
        "df_test = read_data('test')\n",
        "df_train.head()"
      ],
      "execution_count": null,
      "outputs": [
        {
          "output_type": "stream",
          "name": "stdout",
          "text": [
            "Available data ['train', 'test', 'dev', 'random_split']\n"
          ]
        },
        {
          "output_type": "execute_result",
          "data": {
            "text/html": [
              "<div>\n",
              "<style scoped>\n",
              "    .dataframe tbody tr th:only-of-type {\n",
              "        vertical-align: middle;\n",
              "    }\n",
              "\n",
              "    .dataframe tbody tr th {\n",
              "        vertical-align: top;\n",
              "    }\n",
              "\n",
              "    .dataframe thead th {\n",
              "        text-align: right;\n",
              "    }\n",
              "</style>\n",
              "<table border=\"1\" class=\"dataframe\">\n",
              "  <thead>\n",
              "    <tr style=\"text-align: right;\">\n",
              "      <th></th>\n",
              "      <th>family_id</th>\n",
              "      <th>sequence_name</th>\n",
              "      <th>family_accession</th>\n",
              "      <th>aligned_sequence</th>\n",
              "      <th>sequence</th>\n",
              "    </tr>\n",
              "  </thead>\n",
              "  <tbody>\n",
              "    <tr>\n",
              "      <th>0</th>\n",
              "      <td>GMC_oxred_C</td>\n",
              "      <td>A4WZS5_RHOS5/416-539</td>\n",
              "      <td>PF05199.13</td>\n",
              "      <td>PHPE.SRIRLST.RRDAHGMP.....IP.RIESRLGP............</td>\n",
              "      <td>PHPESRIRLSTRRDAHGMPIPRIESRLGPDAFARLRFMARTCRAIL...</td>\n",
              "    </tr>\n",
              "    <tr>\n",
              "      <th>1</th>\n",
              "      <td>DUF2887</td>\n",
              "      <td>K9QI92_9NOSO/3-203</td>\n",
              "      <td>PF11103.8</td>\n",
              "      <td>RDSIYYQIFKRFPALIFEL..VD.NRPPQAQNYRFESVEVKETAFR...</td>\n",
              "      <td>RDSIYYQIFKRFPALIFELVDNRPPQAQNYRFESVEVKETAFRIDG...</td>\n",
              "    </tr>\n",
              "    <tr>\n",
              "      <th>2</th>\n",
              "      <td>zf-IS66</td>\n",
              "      <td>Q92LC9_RHIME/32-75</td>\n",
              "      <td>PF13005.7</td>\n",
              "      <td>.TCCPDCGG.E..LRLVGED.AS....EILDMI.AAQMKVIEVARL...</td>\n",
              "      <td>TCCPDCGGELRLVGEDASEILDMIAAQMKVIEVARLKKSCRCCE</td>\n",
              "    </tr>\n",
              "    <tr>\n",
              "      <th>3</th>\n",
              "      <td>Asp_decarbox</td>\n",
              "      <td>X2GQZ4_9BACI/1-115</td>\n",
              "      <td>PF02261.16</td>\n",
              "      <td>MLRMMMNSKIHRATVTEADLNYVGSITIDEDILDAVGMLPNEKVHI...</td>\n",
              "      <td>MLRMMMNSKIHRATVTEADLNYVGSITIDEDILDAVGMLPNEKVHI...</td>\n",
              "    </tr>\n",
              "    <tr>\n",
              "      <th>4</th>\n",
              "      <td>Filamin</td>\n",
              "      <td>A7SQM3_NEMVE/342-439</td>\n",
              "      <td>PF00630.19</td>\n",
              "      <td>TACPKQ.CTA....RGLG.............LK.AAPVT.QPT..R...</td>\n",
              "      <td>TACPKQCTARGLGLKAAPVTQPTRFVVILNDCHGQPLGRSEGELEV...</td>\n",
              "    </tr>\n",
              "  </tbody>\n",
              "</table>\n",
              "</div>"
            ],
            "text/plain": [
              "      family_id  ...                                           sequence\n",
              "0   GMC_oxred_C  ...  PHPESRIRLSTRRDAHGMPIPRIESRLGPDAFARLRFMARTCRAIL...\n",
              "1       DUF2887  ...  RDSIYYQIFKRFPALIFELVDNRPPQAQNYRFESVEVKETAFRIDG...\n",
              "2       zf-IS66  ...       TCCPDCGGELRLVGEDASEILDMIAAQMKVIEVARLKKSCRCCE\n",
              "3  Asp_decarbox  ...  MLRMMMNSKIHRATVTEADLNYVGSITIDEDILDAVGMLPNEKVHI...\n",
              "4       Filamin  ...  TACPKQCTARGLGLKAAPVTQPTRFVVILNDCHGQPLGRSEGELEV...\n",
              "\n",
              "[5 rows x 5 columns]"
            ]
          },
          "metadata": {},
          "execution_count": 4
        }
      ]
    },
    {
      "cell_type": "markdown",
      "metadata": {
        "id": "MKt_G_f71EEx"
      },
      "source": [
        "# Overview of Data Components:\n",
        "\n",
        "*sequence:* This is the input to the model, an amino acid sequence for a protein. There are 20 common amino acids (frequency > 1,000,000), and 4 amino acids that are uncommon: U, B, O, Z, and X stands for an unknown or generic/'wild-card' amino acid.\n",
        "\n",
        "*family_accession:* These are the labels (outputs) of the model. Accession number is in the form PFxxxxx.y, where xxxxx is the family accession, and y is the version number. Some values of y are greater than ten, and so 'y' has two digits.\n",
        "\n",
        "*sequence_name:* Sequence name, in the form \"uniprot_accession_id/start_index-end_index\".\n",
        "\n",
        "*aligned_sequence:* The aligned version of the *sequence* (above) with gaps retained.\n",
        "\n",
        "*family_id:* One word name for protein family.\n"
      ]
    },
    {
      "cell_type": "markdown",
      "metadata": {
        "id": "iI-1dQzHBXE3"
      },
      "source": [
        "**Getting Familiar with the Data:** the following few cells will help you get familiar with the data, an important step to allow you to build your deep learning sequence model"
      ]
    },
    {
      "cell_type": "code",
      "metadata": {
        "id": "ukuJ4-nOA5zF",
        "colab": {
          "base_uri": "https://localhost:8080/",
          "height": 54
        },
        "outputId": "aeed07ea-2a28-4899-a045-55e9da2fa282"
      },
      "source": [
        "# An example unaligned sequence, input to the model\n",
        "# Each character represents one of the 25 (20 common + 4 uncommon + 1 'wild-card') \n",
        "# amino acids in the sequence.\n",
        "\n",
        "df_train.head(1)['sequence'].values[0]"
      ],
      "execution_count": null,
      "outputs": [
        {
          "output_type": "execute_result",
          "data": {
            "application/vnd.google.colaboratory.intrinsic+json": {
              "type": "string"
            },
            "text/plain": [
              "'PHPESRIRLSTRRDAHGMPIPRIESRLGPDAFARLRFMARTCRAILAAAGCAAPFEEFSSADAFSSTHVFGTCRMGHDPMRNVVDGWGRSHRWPNLFVADASLFPSSGGGESPGLTIQALALRT'"
            ]
          },
          "metadata": {},
          "execution_count": 5
        }
      ]
    },
    {
      "cell_type": "code",
      "metadata": {
        "id": "daZIMmp3BJUo",
        "colab": {
          "base_uri": "https://localhost:8080/"
        },
        "outputId": "99350a20-bb8c-4bf7-97b6-fbba11a809a1"
      },
      "source": [
        "# Given data size (number of sequences in each set)\n",
        "print('Train size: ', len(df_train))\n",
        "print('Val size: ', len(df_val))\n",
        "print('Test size: ', len(df_test))"
      ],
      "execution_count": null,
      "outputs": [
        {
          "output_type": "stream",
          "name": "stdout",
          "text": [
            "Train size:  1086741\n",
            "Val size:  126171\n",
            "Test size:  126171\n"
          ]
        }
      ]
    },
    {
      "cell_type": "code",
      "metadata": {
        "id": "xqmrQbtLBPth",
        "colab": {
          "base_uri": "https://localhost:8080/"
        },
        "outputId": "fb2b3af7-b163-4490-bbd2-f74254d936e7"
      },
      "source": [
        "#Getting a sense of the data: number of families/classes\n",
        "def calc_unique_cls(train, test, val):\n",
        "  \"\"\"\n",
        "  Prints # unique classes in data sets.\n",
        "  \"\"\"\n",
        "  train_unq = np.unique(train['family_accession'].values)\n",
        "  val_unq = np.unique(val['family_accession'].values)\n",
        "  test_unq = np.unique(test['family_accession'].values)\n",
        "\n",
        "  print('Number of unique classes in Train: ', len(train_unq))\n",
        "  print('Number of unique classes in Val: ', len(val_unq))\n",
        "  print('Number of unique classes in Test: ', len(test_unq))\n",
        "\n",
        "# Unique classes in the given dataset : [df_train, df_val and df_test]\n",
        "calc_unique_cls(df_train, df_test, df_val)"
      ],
      "execution_count": null,
      "outputs": [
        {
          "output_type": "stream",
          "name": "stdout",
          "text": [
            "Number of unique classes in Train:  17929\n",
            "Number of unique classes in Val:  13071\n",
            "Number of unique classes in Test:  13071\n"
          ]
        }
      ]
    },
    {
      "cell_type": "markdown",
      "metadata": {
        "id": "YeJhiGm2K34v"
      },
      "source": [
        "**Problem 1a:** Use the code in the following cell to plot the typical lengths of sequences in this dataset.  What is the the approximate most prevalent/common sequence length?  You will use this later for pre-processing your sequences.\n",
        "\n",
        "```The most common sequence length is 69, as determined by the counter.```\n",
        "\n",
        "---\n",
        "\n"
      ]
    },
    {
      "cell_type": "code",
      "metadata": {
        "id": "vditvFGk1Y5E",
        "colab": {
          "base_uri": "https://localhost:8080/",
          "height": 302
        },
        "outputId": "cfafc335-8e88-4bb0-9310-d24a82944b1c"
      },
      "source": [
        "# The code below will allow you to plot the typical lengths of\n",
        "# amino acid sequences for train, val, and test datasets.  \n",
        "\n",
        "df_train['seq_char_count']= df_train['sequence'].apply(lambda x: len(x))\n",
        "df_val['seq_char_count']= df_val['sequence'].apply(lambda x: len(x))\n",
        "df_test['seq_char_count']= df_test['sequence'].apply(lambda x: len(x))\n",
        "\n",
        "def plot_seq_count(df, data_name):\n",
        "  sns.distplot(df['seq_char_count'].values)\n",
        "  plt.title(f'Sequence char count: {data_name}')\n",
        "  plt.grid(True)\n",
        "\n",
        "\n",
        "plt.subplot(1, 3, 1)\n",
        "plot_seq_count(df_train, 'Train')\n",
        "\n",
        "plt.subplot(1, 3, 2)\n",
        "plot_seq_count(df_val, 'Val')\n",
        "\n",
        "plt.subplot(1, 3, 3)\n",
        "plot_seq_count(df_test, 'Test')\n",
        "\n",
        "plt.subplots_adjust(right=3.0)\n",
        "plt.show()\n"
      ],
      "execution_count": null,
      "outputs": [
        {
          "output_type": "stream",
          "name": "stderr",
          "text": [
            "/usr/local/lib/python3.7/dist-packages/seaborn/distributions.py:2619: FutureWarning: `distplot` is a deprecated function and will be removed in a future version. Please adapt your code to use either `displot` (a figure-level function with similar flexibility) or `histplot` (an axes-level function for histograms).\n",
            "  warnings.warn(msg, FutureWarning)\n",
            "/usr/local/lib/python3.7/dist-packages/seaborn/distributions.py:2619: FutureWarning: `distplot` is a deprecated function and will be removed in a future version. Please adapt your code to use either `displot` (a figure-level function with similar flexibility) or `histplot` (an axes-level function for histograms).\n",
            "  warnings.warn(msg, FutureWarning)\n",
            "/usr/local/lib/python3.7/dist-packages/seaborn/distributions.py:2619: FutureWarning: `distplot` is a deprecated function and will be removed in a future version. Please adapt your code to use either `displot` (a figure-level function with similar flexibility) or `histplot` (an axes-level function for histograms).\n",
            "  warnings.warn(msg, FutureWarning)\n"
          ]
        },
        {
          "output_type": "display_data",
          "data": {
            "image/png": "[encoded data removed]",
            "text/plain": [
              "<Figure size 432x288 with 3 Axes>"
            ]
          },
          "metadata": {
            "needs_background": "light"
          }
        }
      ]
    },
    {
      "cell_type": "code",
      "metadata": {
        "colab": {
          "base_uri": "https://localhost:8080/"
        },
        "id": "9cs6pMr55jxU",
        "outputId": "faaf4964-ebc3-4fa7-bd00-c90d5e47a709"
      },
      "source": [
        "#train\n",
        "dtrain = df_train['seq_char_count']\n",
        "c = Counter(dtrain)\n",
        "print(c.most_common(10)) # 10 most common, [element, count]"
      ],
      "execution_count": null,
      "outputs": [
        {
          "output_type": "stream",
          "name": "stdout",
          "text": [
            "[(69, 8860), (68, 8252), (74, 8232), (67, 8004), (85, 7928), (84, 7834), (73, 7772), (75, 7738), (79, 7683), (80, 7662)]\n"
          ]
        }
      ]
    },
    {
      "cell_type": "code",
      "metadata": {
        "colab": {
          "base_uri": "https://localhost:8080/"
        },
        "id": "S9SkpVBfW7W3",
        "outputId": "30de8666-3399-4deb-a3f5-19dd08f94abe"
      },
      "source": [
        "#val\n",
        "dval = df_val['seq_char_count']\n",
        "c = Counter(dval)\n",
        "print(c.most_common(10)) # 10 most common, [element, count]"
      ],
      "execution_count": null,
      "outputs": [
        {
          "output_type": "stream",
          "name": "stdout",
          "text": [
            "[(69, 1074), (68, 973), (67, 961), (75, 928), (74, 926), (73, 918), (84, 907), (63, 900), (65, 891), (72, 889)]\n"
          ]
        }
      ]
    },
    {
      "cell_type": "code",
      "metadata": {
        "colab": {
          "base_uri": "https://localhost:8080/"
        },
        "id": "pywWvQaEW9dV",
        "outputId": "8b3008b5-e77b-4582-cfed-b4c4209d0e2b"
      },
      "source": [
        "#test\n",
        "dtest = df_test['seq_char_count']\n",
        "c = Counter(dtest)\n",
        "print(c.most_common(10)) # 10 most common, [element, count]"
      ],
      "execution_count": null,
      "outputs": [
        {
          "output_type": "stream",
          "name": "stdout",
          "text": [
            "[(69, 1069), (67, 1019), (85, 949), (68, 944), (80, 935), (75, 923), (84, 920), (74, 916), (73, 894), (81, 886)]\n"
          ]
        }
      ]
    },
    {
      "cell_type": "markdown",
      "metadata": {
        "id": "dhi4VH7TGH3o"
      },
      "source": [
        "Amino acids are represented in a protein sequence with their corresponding 1 letter code; for example, the code for alanine is (A), arginine is (R), and so on. The complete list of amino acid codes is [here](https://www.ddbj.nig.ac.jp/ddbj/code-e.html) under 'Amino Acid Codes'."
      ]
    },
    {
      "cell_type": "code",
      "metadata": {
        "id": "shtN6ZTP1afq",
        "colab": {
          "base_uri": "https://localhost:8080/"
        },
        "outputId": "20024aea-ac96-4ae9-f159-c2f1b55b62bc"
      },
      "source": [
        "#Determine the number of instances of each amino acid code across all sequences\n",
        "#in train, val, and test sets \n",
        "def get_code_freq(df, data_name):\n",
        "  \n",
        "  df = df.apply(lambda x: \" \".join(x))\n",
        "  \n",
        "  codes = []\n",
        "  for i in df: # concatination of all codes\n",
        "    codes.extend(i)\n",
        "\n",
        "  codes_dict= Counter(codes)\n",
        "  codes_dict.pop(' ') # removing white space\n",
        "  \n",
        "  print(f'Codes: {data_name}')\n",
        "  print(f'Total unique codes: {len(codes_dict.keys())}')\n",
        "\n",
        "  df = pd.DataFrame({'Code': list(codes_dict.keys()), 'Freq': list(codes_dict.values())})\n",
        "  return df.sort_values('Freq', ascending=False).reset_index()[['Code', 'Freq']]\n",
        "  \n",
        "# train code sequence\n",
        "train_code_freq = get_code_freq(df_train['sequence'], 'Train')\n",
        "\n",
        "# val code sequence\n",
        "val_code_freq = get_code_freq(df_val['sequence'], 'Val')\n",
        "\n",
        "# test code sequence\n",
        "test_code_freq = get_code_freq(df_test['sequence'], 'Test')\n",
        "\n",
        "def plot_code_freq(df, data_name):\n",
        "  \n",
        "  plt.title(f'Code frequency: {data_name}')\n",
        "  sns.barplot(x='Code', y='Freq', data=df)"
      ],
      "execution_count": null,
      "outputs": [
        {
          "output_type": "stream",
          "name": "stdout",
          "text": [
            "Codes: Train\n",
            "Total unique codes: 25\n",
            "Codes: Val\n",
            "Total unique codes: 22\n",
            "Codes: Test\n",
            "Total unique codes: 24\n"
          ]
        }
      ]
    },
    {
      "cell_type": "code",
      "metadata": {
        "id": "qHQpBha0B20i",
        "colab": {
          "base_uri": "https://localhost:8080/",
          "height": 191
        },
        "outputId": "31d4c83d-e9d0-4f4e-fbff-77ef67f60310"
      },
      "source": [
        "#Plot the Amino Acid Code frequency for this dataset\n",
        "plt.subplot(1, 3, 1)\n",
        "plot_code_freq(train_code_freq, 'Train')\n",
        "\n",
        "plt.subplot(1, 3, 2)\n",
        "plot_code_freq(val_code_freq, 'Val')\n",
        "\n",
        "plt.subplot(1, 3, 3)\n",
        "plot_code_freq(test_code_freq, 'Test')\n",
        "\n",
        "plt.subplots_adjust(right=3.0)\n",
        "plt.show()"
      ],
      "execution_count": null,
      "outputs": [
        {
          "output_type": "display_data",
          "data": {
            "image/png": "[encoded data removed]",
            "text/plain": [
              "<Figure size 432x288 with 3 Axes>"
            ]
          },
          "metadata": {
            "needs_background": "light"
          }
        }
      ]
    },
    {
      "cell_type": "code",
      "metadata": {
        "id": "HHqH_RMXCKpL",
        "colab": {
          "base_uri": "https://localhost:8080/"
        },
        "outputId": "d00a27c5-91c5-47c0-b5d9-5a3acd3c7d31"
      },
      "source": [
        "# Since our dataset is large, we will consider only the top 300 most-observed\n",
        "# protein classes/families due to limited computational power.\n",
        "\n",
        "classes = df_train['family_accession'].value_counts()[:300].index.tolist()\n",
        "len(classes)\n",
        "\n",
        "# Filtering data based on considered 300 classes.\n",
        "train_sm = df_train.loc[df_train['family_accession'].isin(classes)].reset_index()\n",
        "val_sm = df_val.loc[df_val['family_accession'].isin(classes)].reset_index()\n",
        "test_sm = df_test.loc[df_test['family_accession'].isin(classes)].reset_index()\n",
        "\n",
        "print('Data size after considering 300 classes for each data split:')\n",
        "print('Train size :', len(train_sm))\n",
        "print('Val size :', len(val_sm))\n",
        "print('Test size :', len(test_sm))\n",
        "\n",
        "# No. of unique classes after reducing the data size.\n",
        "\n",
        "calc_unique_cls(train_sm, test_sm, val_sm)"
      ],
      "execution_count": null,
      "outputs": [
        {
          "output_type": "stream",
          "name": "stdout",
          "text": [
            "Data size after considering 300 classes for each data split:\n",
            "Train size : 210358\n",
            "Val size : 26129\n",
            "Test size : 26129\n",
            "Number of unique classes in Train:  300\n",
            "Number of unique classes in Val:  300\n",
            "Number of unique classes in Test:  300\n"
          ]
        }
      ]
    },
    {
      "cell_type": "markdown",
      "metadata": {
        "id": "YSUdULw1Jduv"
      },
      "source": [
        "Here we start developing our **Deep Learning** model.  First task is to preprocess the amino acid sequences in our dataset."
      ]
    },
    {
      "cell_type": "code",
      "metadata": {
        "id": "bHiZWsh8CZMR",
        "colab": {
          "base_uri": "https://localhost:8080/"
        },
        "outputId": "7d94a3b6-ee50-495e-9846-4ff1564679b4"
      },
      "source": [
        "# The code below creates our amino acid code sequence dictionary\n",
        "# https://dmnfarrell.github.io/bioinformatics/mhclearning\n",
        "# 1 letter code for 20 natural amino acids\n",
        "\n",
        "codes = ['A', 'C', 'D', 'E', 'F', 'G', 'H', 'I', 'K', 'L',\n",
        "         'M', 'N', 'P', 'Q', 'R', 'S', 'T', 'V', 'W', 'Y']\n",
        "\n",
        "def create_dict(codes):\n",
        "  char_dict = {}\n",
        "  for index, val in enumerate(codes):\n",
        "    char_dict[val] = index+1\n",
        "\n",
        "  return char_dict\n",
        "\n",
        "char_dict = create_dict(codes)\n",
        "\n",
        "print(char_dict)\n",
        "print(\"Dict Length:\", len(char_dict))"
      ],
      "execution_count": null,
      "outputs": [
        {
          "output_type": "stream",
          "name": "stdout",
          "text": [
            "{'A': 1, 'C': 2, 'D': 3, 'E': 4, 'F': 5, 'G': 6, 'H': 7, 'I': 8, 'K': 9, 'L': 10, 'M': 11, 'N': 12, 'P': 13, 'Q': 14, 'R': 15, 'S': 16, 'T': 17, 'V': 18, 'W': 19, 'Y': 20}\n",
            "Dict Length: 20\n"
          ]
        }
      ]
    },
    {
      "cell_type": "code",
      "metadata": {
        "id": "S_gkP-BD2Nfn",
        "colab": {
          "base_uri": "https://localhost:8080/"
        },
        "outputId": "373e7df4-77ac-4b59-b79d-bf48512e5f52"
      },
      "source": [
        "#Now we will encode our sequences made of letters into sequences of integers\n",
        "def integer_encoding(data):\n",
        "  \"\"\"\n",
        "  - Encodes code sequence to integer values.\n",
        "  - 20 common amino acids (and X 'wild-card') are taken into consideration.\n",
        "    Remaining 4 uncommon amino acids are categorized as 0 (so not included).\n",
        "  \"\"\"\n",
        "  \n",
        "  encode_list = []\n",
        "  for row in data['sequence'].values:\n",
        "    row_encode = []\n",
        "    for code in row:\n",
        "      row_encode.append(char_dict.get(code, 0))\n",
        "    encode_list.append(np.array(row_encode))\n",
        "  \n",
        "  return encode_list\n",
        "  \n",
        "train_encode = integer_encoding(train_sm) \n",
        "val_encode = integer_encoding(val_sm) \n",
        "test_encode = integer_encoding(test_sm) \n",
        "\n",
        "#Just to visualize an example of the output\n",
        "print(train_encode[0])"
      ],
      "execution_count": null,
      "outputs": [
        {
          "output_type": "stream",
          "name": "stdout",
          "text": [
            "[16  4  8  9 10 10  7  1 14 18 12 13  7  5 10  5 12  1 10 12 17 10 16  1\n",
            " 18  8 15 15  3 13  4  9  1  2  7 10 18 10 12 10 16 17  5  5 15  9 12 10\n",
            "  9 15 13 16  4  4  1  1 10 16  4  4 18  1  7 18  1  1 20 10  4  8  4 14\n",
            "  1 15  5 10  3  9 10]\n"
          ]
        }
      ]
    },
    {
      "cell_type": "code",
      "metadata": {
        "id": "oGuni6WQEtC3",
        "colab": {
          "base_uri": "https://localhost:8080/"
        },
        "outputId": "68231341-20e5-4413-937e-32ad00bab812"
      },
      "source": [
        "# The code to encode labels/output variable y (amino acid family/class) into integers\n",
        "le = LabelEncoder()\n",
        "\n",
        "y_train_le = le.fit_transform(train_sm['family_accession'])\n",
        "y_val_le = le.transform(val_sm['family_accession'])\n",
        "y_test_le = le.transform(test_sm['family_accession'])\n",
        "\n",
        "y_train_le.shape, y_val_le.shape, y_test_le.shape"
      ],
      "execution_count": null,
      "outputs": [
        {
          "output_type": "execute_result",
          "data": {
            "text/plain": [
              "((210358,), (26129,), (26129,))"
            ]
          },
          "metadata": {},
          "execution_count": 17
        }
      ]
    },
    {
      "cell_type": "markdown",
      "metadata": {
        "id": "exOQ1iz4QcFf"
      },
      "source": [
        "**Problem 1b:** Now we must ensure all sequences are the same length since our sequence model can only take in fixed-size inputs.  Pad the sequences using Keras *pad_sequences* [function](https://www.tensorflow.org/api_docs/python/tf/keras/preprocessing/sequence/pad_sequences), using the max_length you determined in part (a).  Use 'post' padding to pad with 0 if the total sequence length is less than max_length or truncate the sequence (if longer) to max_length."
      ]
    },
    {
      "cell_type": "code",
      "metadata": {
        "id": "njabqnhU2RZQ",
        "colab": {
          "base_uri": "https://localhost:8080/"
        },
        "outputId": "88bfa1c8-25a3-4323-c134-4af59fa193bc"
      },
      "source": [
        "# Your code below for padding sequences\n",
        "\n",
        "max_length = 69\n",
        "train_pad = pad_sequences(train_encode, maxlen=max_length, padding='post', truncating='post')\n",
        "val_pad = pad_sequences(val_encode, maxlen=max_length, padding='post', truncating='post')\n",
        "test_pad = pad_sequences(test_encode, maxlen=max_length, padding='post', truncating='post')\n",
        "\n",
        "# Visualize the padded/truncated version of train_encode\n",
        "print(train_pad[0])\n",
        "train_pad.shape, val_pad.shape, test_pad.shape"
      ],
      "execution_count": null,
      "outputs": [
        {
          "output_type": "stream",
          "name": "stdout",
          "text": [
            "[16  4  8  9 10 10  7  1 14 18 12 13  7  5 10  5 12  1 10 12 17 10 16  1\n",
            " 18  8 15 15  3 13  4  9  1  2  7 10 18 10 12 10 16 17  5  5 15  9 12 10\n",
            "  9 15 13 16  4  4  1  1 10 16  4  4 18  1  7 18  1  1 20 10  4]\n"
          ]
        },
        {
          "output_type": "execute_result",
          "data": {
            "text/plain": [
              "((210358, 69), (26129, 69), (26129, 69))"
            ]
          },
          "metadata": {},
          "execution_count": 18
        }
      ]
    },
    {
      "cell_type": "markdown",
      "metadata": {
        "id": "lejFT47QR5yb"
      },
      "source": [
        "**Problem 1c:** Now encode input sequences and output labels using one-hot encoding (zeros everywhere except for at location of the appropriate amino acid code) using Keras *to_categorical* function."
      ]
    },
    {
      "cell_type": "code",
      "metadata": {
        "id": "hpx8BzAr2bFr",
        "colab": {
          "base_uri": "https://localhost:8080/"
        },
        "outputId": "72b777be-a1ae-4a8d-9cf9-145526572600"
      },
      "source": [
        "# Your code here: One hot encoding of sequences\n",
        "\n",
        "train_onehot = to_categorical(train_pad)\n",
        "val_onehot = to_categorical(val_pad)\n",
        "test_onehot = to_categorical(test_pad)\n",
        "\n",
        "train_onehot.shape, val_onehot.shape, test_onehot.shape"
      ],
      "execution_count": null,
      "outputs": [
        {
          "output_type": "execute_result",
          "data": {
            "text/plain": [
              "((210358, 69, 21), (26129, 69, 21), (26129, 69, 21))"
            ]
          },
          "metadata": {},
          "execution_count": 19
        }
      ]
    },
    {
      "cell_type": "code",
      "metadata": {
        "id": "vpm7o6aDU5Ae",
        "colab": {
          "base_uri": "https://localhost:8080/"
        },
        "outputId": "2c58594b-f6f8-4b6a-d1cf-efd6d03bbc50"
      },
      "source": [
        "# Your code here: One hot encoding of outputs\n",
        "\n",
        "y_train = to_categorical(y_train_le)\n",
        "y_val = to_categorical(y_val_le)\n",
        "y_test = to_categorical(y_test_le)\n",
        "\n",
        "y_train.shape, y_val.shape, y_test.shape"
      ],
      "execution_count": null,
      "outputs": [
        {
          "output_type": "execute_result",
          "data": {
            "text/plain": [
              "((210358, 300), (26129, 300), (26129, 300))"
            ]
          },
          "metadata": {},
          "execution_count": 20
        }
      ]
    },
    {
      "cell_type": "code",
      "metadata": {
        "id": "gx3t9wgcE4W9"
      },
      "source": [
        "#Utility functions: plot model's accuracy and loss\n",
        "\n",
        "# https://realpython.com/python-keras-text-classification/\n",
        "plt.style.use('ggplot')\n",
        "\n",
        "def plot_history(history):\n",
        "  acc = history.history['accuracy']\n",
        "  val_acc = history.history['val_accuracy']\n",
        "  loss = history.history['loss']\n",
        "  val_loss = history.history['val_loss']\n",
        "  x = range(1, len(acc) + 1)\n",
        "\n",
        "  plt.figure(figsize=(12, 5))\n",
        "  plt.subplot(1, 2, 1)\n",
        "  plt.plot(x, acc, 'b', label='Training acc')\n",
        "  plt.plot(x, val_acc, 'r', label='Validation acc')\n",
        "  plt.title('Training and validation accuracy')\n",
        "  plt.legend()\n",
        "\n",
        "  plt.subplot(1, 2, 2)\n",
        "  plt.plot(x, loss, 'b', label='Training loss')\n",
        "  plt.plot(x, val_loss, 'r', label='Validation loss')\n",
        "  plt.title('Training and validation loss')\n",
        "  plt.legend()\n",
        "\n",
        "# Utility function: Display model score(Loss & Accuracy) across all sets.\n",
        "\n",
        "def display_model_score(model, train, val, test, batch_size):\n",
        "\n",
        "  train_score = model.evaluate(train[0], train[1], batch_size=batch_size, verbose=1)\n",
        "  print('Train loss: ', train_score[0])\n",
        "  print('Train accuracy: ', train_score[1])\n",
        "  print('-'*70)\n",
        "\n",
        "  val_score = model.evaluate(val[0], val[1], batch_size=batch_size, verbose=1)\n",
        "  print('Val loss: ', val_score[0])\n",
        "  print('Val accuracy: ', val_score[1])\n",
        "  print('-'*70)\n",
        "  \n",
        "  test_score = model.evaluate(test[0], test[1], batch_size=batch_size, verbose=1)\n",
        "  print('Test loss: ', test_score[0])\n",
        "  print('Test accuracy: ', test_score[1])"
      ],
      "execution_count": null,
      "outputs": []
    },
    {
      "cell_type": "markdown",
      "metadata": {
        "id": "hflelrALVtaO"
      },
      "source": [
        "**Problem 1d:** Implement code here for a [bidirectional LSTM](https://www.tensorflow.org/api_docs/python/tf/keras/layers/Bidirectional) using Keras Functional or Sequential API.  Unlike RNNs which only take input from the previous timestep, LSTMs can remember information from the distant past via gating mechanisms.  Bidirectional LSTMs can incorporate contextual information from both past and future, improving their performance even more compared to unidirectional LSTMs on sequential data."
      ]
    },
    {
      "cell_type": "markdown",
      "metadata": {
        "id": "Ixz4ceqdfTtV"
      },
      "source": [
        "![lstmHW.jpg](data:image/jpeg;base64,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)"
      ]
    },
    {
      "cell_type": "code",
      "metadata": {
        "id": "FFh8XsQ9FDAH",
        "colab": {
          "base_uri": "https://localhost:8080/"
        },
        "outputId": "64dc8dab-7390-46ff-c183-6b81d0557a12"
      },
      "source": [
        "# Implement your code here:\n",
        "# Hint: use an embedding layer to project your sequence data to a higher dimension,\n",
        "# and use the diagram above for some ideas on layers to include in your model.\n",
        "# Remember to compile your model after designing it.\n",
        "\n",
        "# define layers\n",
        "inputs = Input(shape=(max_length,)) # match pad shape\n",
        "embedding = Embedding(21, 128, input_length=max_length) #switched max_length with 21\n",
        "x = embedding(inputs)\n",
        "x = Bidirectional(LSTM(64))(x)\n",
        "x = Dropout(0.3)(x)\n",
        "outputs = Dense(300, activation='softmax')(x)\n",
        "\n",
        "# define model\n",
        "model1 = Model(inputs=inputs, outputs=outputs, name='Bidirectional_LSTM')\n",
        "\n",
        "# compile model\n",
        "model1.compile(optimizer='adam', \n",
        "               loss='categorical_crossentropy', \n",
        "               metrics=['accuracy'])\n",
        "\n",
        "# print model summary\n",
        "model1.summary()"
      ],
      "execution_count": null,
      "outputs": [
        {
          "output_type": "stream",
          "name": "stdout",
          "text": [
            "Model: \"Bidirectional_LSTM\"\n",
            "_________________________________________________________________\n",
            "Layer (type)                 Output Shape              Param #   \n",
            "=================================================================\n",
            "input_1 (InputLayer)         [(None, 69)]              0         \n",
            "_________________________________________________________________\n",
            "embedding (Embedding)        (None, 69, 128)           8832      \n",
            "_________________________________________________________________\n",
            "bidirectional (Bidirectional (None, 128)               98816     \n",
            "_________________________________________________________________\n",
            "dropout (Dropout)            (None, 128)               0         \n",
            "_________________________________________________________________\n",
            "dense (Dense)                (None, 300)               38700     \n",
            "=================================================================\n",
            "Total params: 146,348\n",
            "Trainable params: 146,348\n",
            "Non-trainable params: 0\n",
            "_________________________________________________________________\n"
          ]
        }
      ]
    },
    {
      "cell_type": "markdown",
      "metadata": {
        "id": "UkAUuU9sYOCk"
      },
      "source": [
        "**Problem 1e:** Now train your model using Keras model.fit function. Add the given early stopping as a parameter to your fit function to prevent overtraining.  Use at least 10 epochs (it will take 15-20min to train with GPU: Remember turn GPU on by going to Runtime --> Change Runtime Type --> GPU) and a batch size of 256.  Validate on your padded validation sequences from above."
      ]
    },
    {
      "cell_type": "code",
      "metadata": {
        "id": "dsB95MsXGJEd",
        "colab": {
          "base_uri": "https://localhost:8080/"
        },
        "outputId": "b9d40b8d-46d2-4853-b2f0-b0eeff84929f"
      },
      "source": [
        "# Train your model using Early Stopping\n",
        "es = EarlyStopping(monitor='val_loss', patience=3, verbose=1)\n",
        "\n",
        "history1 = model1.fit(\n",
        "    train_pad, y_train,\n",
        "    epochs=10, batch_size=256,\n",
        "    validation_data=(val_pad, y_val),\n",
        "    callbacks=[es])"
      ],
      "execution_count": null,
      "outputs": [
        {
          "output_type": "stream",
          "name": "stdout",
          "text": [
            "Epoch 1/10\n",
            "822/822 [==============================] - 38s 36ms/step - loss: 3.3909 - accuracy: 0.3062 - val_loss: 1.5639 - val_accuracy: 0.6886\n",
            "Epoch 2/10\n",
            "822/822 [==============================] - 29s 35ms/step - loss: 1.1282 - accuracy: 0.7563 - val_loss: 0.6274 - val_accuracy: 0.8738\n",
            "Epoch 3/10\n",
            "822/822 [==============================] - 32s 39ms/step - loss: 0.6095 - accuracy: 0.8650 - val_loss: 0.3734 - val_accuracy: 0.9225\n",
            "Epoch 4/10\n",
            "822/822 [==============================] - 31s 38ms/step - loss: 0.4215 - accuracy: 0.9042 - val_loss: 0.2627 - val_accuracy: 0.9447\n",
            "Epoch 5/10\n",
            "822/822 [==============================] - 28s 35ms/step - loss: 0.3262 - accuracy: 0.9246 - val_loss: 0.2012 - val_accuracy: 0.9561\n",
            "Epoch 6/10\n",
            "822/822 [==============================] - 29s 35ms/step - loss: 0.2639 - accuracy: 0.9375 - val_loss: 0.1631 - val_accuracy: 0.9633\n",
            "Epoch 7/10\n",
            "822/822 [==============================] - 30s 36ms/step - loss: 0.2230 - accuracy: 0.9468 - val_loss: 0.1434 - val_accuracy: 0.9664\n",
            "Epoch 8/10\n",
            "822/822 [==============================] - 29s 35ms/step - loss: 0.1923 - accuracy: 0.9537 - val_loss: 0.1247 - val_accuracy: 0.9707\n",
            "Epoch 9/10\n",
            "822/822 [==============================] - 31s 38ms/step - loss: 0.1683 - accuracy: 0.9590 - val_loss: 0.1069 - val_accuracy: 0.9750\n",
            "Epoch 10/10\n",
            "822/822 [==============================] - 28s 34ms/step - loss: 0.1503 - accuracy: 0.9626 - val_loss: 0.0973 - val_accuracy: 0.9765\n"
          ]
        }
      ]
    },
    {
      "cell_type": "code",
      "metadata": {
        "id": "6vLyU6BHVkEM",
        "colab": {
          "base_uri": "https://localhost:8080/",
          "height": 524
        },
        "outputId": "e38f0de3-0ee1-4db7-a47c-fd07829bb175"
      },
      "source": [
        "# Show your model results and plots\n",
        "display_model_score(model1,\n",
        "    [train_pad, y_train],\n",
        "    [val_pad, y_val],\n",
        "    [test_pad, y_test],\n",
        "    256)\n",
        "\n",
        "plot_history(history1)"
      ],
      "execution_count": null,
      "outputs": [
        {
          "output_type": "stream",
          "name": "stdout",
          "text": [
            "822/822 [==============================] - 13s 16ms/step - loss: 0.0656 - accuracy: 0.9863\n",
            "Train loss:  0.06557691842317581\n",
            "Train accuracy:  0.9862995743751526\n",
            "----------------------------------------------------------------------\n",
            "103/103 [==============================] - 2s 17ms/step - loss: 0.0973 - accuracy: 0.9765\n",
            "Val loss:  0.09728921949863434\n",
            "Val accuracy:  0.9764629602432251\n",
            "----------------------------------------------------------------------\n",
            "103/103 [==============================] - 2s 15ms/step - loss: 0.0977 - accuracy: 0.9763\n",
            "Test loss:  0.09767093509435654\n",
            "Test accuracy:  0.9762715697288513\n"
          ]
        },
        {
          "output_type": "display_data",
          "data": {
            "image/png": "[encoded data removed]",
            "text/plain": [
              "<Figure size 864x360 with 2 Axes>"
            ]
          },
          "metadata": {}
        }
      ]
    },
    {
      "cell_type": "code",
      "metadata": {
        "id": "ugPLLi72WP9p"
      },
      "source": [
        "#Save your model in case you need to run again to save time with training\n",
        "#model1.save_weights('/gdrive/My Drive/Fall 2021/BMEN 4470/LSTM_Model1.h5')\n",
        "model1.save_weights('/gdrive/My Drive/LSTM_Model1.h5')"
      ],
      "execution_count": null,
      "outputs": []
    },
    {
      "cell_type": "markdown",
      "metadata": {
        "id": "FJXSHL9tr4tT"
      },
      "source": [
        "**Problem #2a**: In this problem, we will assess the interclass variability of embeddings. We will plot t-SNE clusters within and between family_accession samples.  \n",
        "\n",
        "Extract the weights from the embedding layer of your model1. The shape of your weight matrix should make sense - it should be (sequence_length x embedding_dim)"
      ]
    },
    {
      "cell_type": "code",
      "metadata": {
        "id": "EFl-jQk3sggR",
        "colab": {
          "base_uri": "https://localhost:8080/"
        },
        "outputId": "29f989d8-163d-4aa6-a6cd-7834ee27796c"
      },
      "source": [
        "embedding_weights = embedding.get_weights()[0]\n",
        "embedding_weights.shape"
      ],
      "execution_count": null,
      "outputs": [
        {
          "output_type": "execute_result",
          "data": {
            "text/plain": [
              "(69, 128)"
            ]
          },
          "metadata": {},
          "execution_count": 23
        }
      ]
    },
    {
      "cell_type": "markdown",
      "metadata": {
        "id": "WeuvputvszC8"
      },
      "source": [
        "Within 5 classes, compute the embeddings for each sample in your validation set, storing them as you go to a new data matrix (X). "
      ]
    },
    {
      "cell_type": "code",
      "metadata": {
        "id": "ebm6lY1yszbr",
        "colab": {
          "base_uri": "https://localhost:8080/",
          "height": 283
        },
        "outputId": "794870a7-453c-4469-ca81-fa2426403865"
      },
      "source": [
        "from einops import rearrange\n",
        "num_classes = 5 # number of classes we will store average distances for\n",
        "\n",
        "X = None\n",
        "y = None\n",
        "for class_of_interest in classes[:num_classes]:\n",
        "  # e.g. class_of_interest == 'PF01967.21'\n",
        "  class_indices = list(val_sm.loc[val_sm.family_accession==class_of_interest].index)\n",
        "  \n",
        "  #val_onehot_flat = val_onehot.flatten()\n",
        "  #embedding_weights_flat = embedding_weights.flatten()\n",
        "  \n",
        "  all_class_samples = np.dot(val_onehot, embedding_weights)\n",
        "  # Storing the forward pass from the val_ohe samples that match your class_of_interest.\n",
        "\n",
        "  # this rearranges to samples x features shape by flattening time and embedding shapes\n",
        "  all_class_samples = rearrange(all_class_samples,'s t e -> s (t e)') \n",
        "  if X is None:\n",
        "    X = all_class_samples\n",
        "    y = np.array([class_of_interest] * len(class_indices))\n",
        "  else:\n",
        "    X = np.concatenate((X, all_class_samples))\n",
        "    y = np.concatenate((y, np.array([class_of_interest] * len(class_indices)))) "
      ],
      "execution_count": null,
      "outputs": [
        {
          "output_type": "error",
          "ename": "ValueError",
          "evalue": "ignored",
          "traceback": [
            "\u001b[0;31m---------------------------------------------------------------------------\u001b[0m",
            "\u001b[0;31mValueError\u001b[0m                                Traceback (most recent call last)",
            "\u001b[0;32m<ipython-input-26-b616c8000833>\u001b[0m in \u001b[0;36m<module>\u001b[0;34m()\u001b[0m\n\u001b[1;32m     11\u001b[0m   \u001b[0;31m#embedding_weights_flat = embedding_weights.flatten()\u001b[0m\u001b[0;34m\u001b[0m\u001b[0;34m\u001b[0m\u001b[0;34m\u001b[0m\u001b[0m\n\u001b[1;32m     12\u001b[0m \u001b[0;34m\u001b[0m\u001b[0m\n\u001b[0;32m---> 13\u001b[0;31m   \u001b[0mall_class_samples\u001b[0m \u001b[0;34m=\u001b[0m \u001b[0mnp\u001b[0m\u001b[0;34m.\u001b[0m\u001b[0mdot\u001b[0m\u001b[0;34m(\u001b[0m\u001b[0membedding_weights\u001b[0m\u001b[0;34m,\u001b[0m\u001b[0mval_pad\u001b[0m\u001b[0;34m)\u001b[0m\u001b[0;34m\u001b[0m\u001b[0;34m\u001b[0m\u001b[0m\n\u001b[0m\u001b[1;32m     14\u001b[0m   \u001b[0;31m# Your code here for storing the forward pass from the val_ohe samples that match your class_of_interest.\u001b[0m\u001b[0;34m\u001b[0m\u001b[0;34m\u001b[0m\u001b[0;34m\u001b[0m\u001b[0m\n\u001b[1;32m     15\u001b[0m \u001b[0;34m\u001b[0m\u001b[0m\n",
            "\u001b[0;32m<__array_function__ internals>\u001b[0m in \u001b[0;36mdot\u001b[0;34m(*args, **kwargs)\u001b[0m\n",
            "\u001b[0;31mValueError\u001b[0m: shapes (69,128) and (26129,69) not aligned: 128 (dim 1) != 26129 (dim 0)"
          ]
        }
      ]
    },
    {
      "cell_type": "code",
      "metadata": {
        "colab": {
          "base_uri": "https://localhost:8080/"
        },
        "id": "h_J5DU-otrV0",
        "outputId": "894f5ff7-6786-462b-d9ef-454a49cbf590"
      },
      "source": [
        "embedding_weights"
      ],
      "execution_count": null,
      "outputs": [
        {
          "output_type": "execute_result",
          "data": {
            "text/plain": [
              "array([[ 0.28826538, -0.32676592, -0.10027502, ..., -0.03203049,\n",
              "         0.11444444, -0.27612343],\n",
              "       [ 0.08043172,  0.01673465,  0.08790924, ..., -0.12787178,\n",
              "         0.13362123, -0.12835526],\n",
              "       [ 0.25182918, -0.06299692, -0.12540402, ..., -0.06475598,\n",
              "        -0.23995858,  0.03784046],\n",
              "       ...,\n",
              "       [ 0.0412071 , -0.0161279 ,  0.04429877, ..., -0.02809579,\n",
              "         0.03458084, -0.01155783],\n",
              "       [ 0.00739034, -0.00531257,  0.03976116, ...,  0.03727578,\n",
              "        -0.04089776,  0.02267856],\n",
              "       [ 0.04536966,  0.04727152, -0.03405159, ...,  0.00239642,\n",
              "         0.01576973, -0.00170218]], dtype=float32)"
            ]
          },
          "metadata": {},
          "execution_count": 39
        }
      ]
    },
    {
      "cell_type": "markdown",
      "metadata": {
        "id": "p8qUljJ4tuwN"
      },
      "source": [
        "**Problem #2b**: Use t-SNE to fit and transform your X matrix to 2 components for visualization. \n",
        "\n",
        "*Answer the following questions from your plot*:\n",
        "\n",
        "What do you notice about the clusters? Why does this result occur and how does it help the LSTM model better learn to classify protein function? "
      ]
    },
    {
      "cell_type": "code",
      "metadata": {
        "id": "ZvnWUxdnud5I"
      },
      "source": [
        "from sklearn.manifold import TSNE\n",
        "# Your t-SNE code here\n",
        "#from tsnecuda import TSNE\n",
        "X_embedded = TSNE(n_components=2, perplexity=15, learning_rate=10).fit_transform(X)"
      ],
      "execution_count": null,
      "outputs": []
    },
    {
      "cell_type": "code",
      "metadata": {
        "id": "BcyZN6anbunt"
      },
      "source": [
        "import seaborn as sns\n",
        "\n",
        "# this should plot your lower-dimensional representations of samples, colored by family_accession\n",
        "tsne_df = pd.DataFrame()\n",
        "tsne_df['y'] = y\n",
        "tsne_df['tsne-dim1'] = tsne_results[:,0]\n",
        "tsne_df['tsne-dim2'] = tsne_results[:,1]\n",
        "plt.figure(figsize=(16,10))\n",
        "sns.scatterplot(\n",
        "    x=\"tsne-dim1\", y=\"tsne-dim2\",\n",
        "    hue=\"y\",\n",
        "    palette=sns.color_palette(\"hls\", num_classes),\n",
        "    data=tsne_df,\n",
        "    legend=\"full\",\n",
        "    alpha=0.6\n",
        ")"
      ],
      "execution_count": null,
      "outputs": []
    },
    {
      "cell_type": "markdown",
      "metadata": {
        "id": "i4zkg_J7ugFC"
      },
      "source": [
        "Your answer to the questions here."
      ]
    },
    {
      "cell_type": "markdown",
      "metadata": {
        "id": "oP427ByFGdIo"
      },
      "source": [
        "Clear variables in case we run into RAM issues with Colab updates"
      ]
    },
    {
      "cell_type": "code",
      "metadata": {
        "id": "qKuU937QGfeW"
      },
      "source": [
        "import gc\n",
        "\n",
        "try:\n",
        "  del tsne_results\n",
        "  del tsne_df\n",
        "  del embeddings\n",
        "  del model1\n",
        "  del df_train\n",
        "  del df_val\n",
        "  del df_test\n",
        "  del train_encode\n",
        "  del val_encode\n",
        "  del test_encode\n",
        "  del y_train_le\n",
        "  del y_val_le\n",
        "  del y_test_le\n",
        "  del train_pad\n",
        "  del val_pad\n",
        "  del test_pad\n",
        "  gc.collect()\n",
        "except:\n",
        "  pass"
      ],
      "execution_count": null,
      "outputs": []
    },
    {
      "cell_type": "markdown",
      "metadata": {
        "id": "fQEXqSxfYl1i"
      },
      "source": [
        "**Problem #3a:** Now we will repeat the protein sequence classification task of Problem #1  using a ResNet based [temporal (1D) convolution network](https://www.tensorflow.org/api_docs/python/tf/keras/layers/Conv1D) with dilation.  Use Keras functional API to design two convolutional blocks and then use the Add() [function](https://www.tensorflow.org/api_docs/python/tf/keras/layers/Add) to combine your input (data) with the output of your 2nd convolutional block."
      ]
    },
    {
      "cell_type": "markdown",
      "metadata": {
        "id": "T1IUO7SKhiEI"
      },
      "source": [
        "![resNetTypeCNN.png](data:image/png;base64,iVBORw0KGgoAAAANSUhEUgAAAjoAAAFJCAIAAAAddBBlAABvGklEQVR42uydB1zUyhbGh+3A0tvSexfpgoIiWMGuKIhXrNiuXnt79t67Xuu1dxHsoAKKgEoTRIoFpFelL7ALu/B+yQIiggIKLnL+j3fNTjKT5GSSL2fmZIZUU1ODAAAAAIC/IYAJAAAAAJArAAAAAAC5AgAAAECuAAAAAADkCgAAAABArgAAAACQKwAAAAAAuQIAAAAAkCsAAAAA5AoAAAAAQK4AAAAAkCsAAAAAALkCAAAAAJArAAAAAOQKAAAAAECuAAAAAADkCgAAAAC5AgAAAACQKwAAAAAAuQIAAABArgAAAAAA5AoAAAAAuQIAAAAAkCsAAAAAALkCgO/A5XIdnRx1dLXfv38P1gAAkCsA4FNiYmL8/B4nJydfv3EdrAEAnQISmADoANiJdy/55wpQKVQKhUwmEao5lTy4grpDx/ZRoPC2Sr5/yS8LUahUKpVCFqiuYrNYrEqKlpOzvSLllx5PFaeKt1DJZsPVAQCQKwCopTz+3NZtkU2tkRxjNKJOrsrfXty64wW30Rbiow2H/2q5AgAA5AoAmkDIbMG+PblViJvnv2/3g5y6ZPUxa5aM16LVb2XovnBc1fHrEaUIkdQdnB0MGBJikgom2jSwIACAXIEJgA6AqmQ7TAlfcjImF4zc9pKF/0i+ez/F3bW+ElIVTDU4maUIkbsvuHbuH1MR6FoFAKAOeB4AHYug7uTDR91Uan9Vvtrl8b97WRxsubo47MDUeV7ZSHXCsePzQKsAAAC5An4rROm+q/7bYCNc+zPv9sI5B6NKy99f+Hva0Xiu5KCdp9c6yBDBTgAAgFwBvxuq9l/7T0xRq/3FiT04aYLr+E3BTKrFstN7x6pSwUIAAIBcAfxR8SRslp/aZi9S+7M0PqYAqU8+fnxGN2EwDgAAIFcAP7lYai77js/QEahPKMzKLeOCXQAAALkC+K32CSroqYvW/yx6tHzantDiajAMAAAgVwD/wM0P3j510cNiAUVD+bq0DydmLbyWAgNNAAAAcgXwCWVxJ+dOO/MRMUYduX71+t7BkrXppQH/89jxvBBcLAAAQK6A305lutdy9x3hbLrN+nMbnRQElUdsPz2/W93nwsmnZyy6mAQuFgAAIFfA74T7OXD7pMW++QS92f8ddNcRxOsh3WTusQMj5epcr6C107Y+/QxxFwAA1CNQU1MDVgA6zq/KCz48c9q/UZWig/bdOzJS4atRwMrjj05y3hFRyfslaL369unJPDn71YSFh9nY9EIICQkJ0en0lmQpKytjs9liYmJUKpWAQyQSCc1AIpKEhIXpdLqICB37L533j0jdsrCIiIhwXboInk4kwqfRAAByBfxm2G+Pz158Nam0vCg3t6TOZ6Krj9xzde9AqToPvyL233nLr0XEpTHr8wkp66jSCQIiPdacXNtT9Bce0P0H90eOHMFXNqLRaDzpEhMTk5aWkZWVkZWRlZbB/isjg/3GF2RaKK4A8OcBQ9wCHQCnLD3+XXIuQgQSlUqt4VZWcmoQMyW5kNNgIy4zNbZWqwgkCpkkUMNhpb9PQAiRJYp+ceiFjIxM/QKDwWhJls+fP5eVlcnKypLJ5Orqai6XW92ARj85HE5ZWVl1dSsOm4Xz+fPnH6oadsxyDEUlJRVlZWUVFRVlZRVVVRVlFVlZWahqAHhXAPBHUd8YuHLFyo0bN7XTXioqKphMZmlpKfZfZmlZ7XJZKRNLYdalYyml+Fo8vbCwsKioqA27o1Kpyhi4eCmraKhr6Ojq6OnqiYqKwhUHwLsCAKBZBHHqPbmWU1VV9fnz57y8vM+fP+Xlffr0+RP2z2fefz7lfcrLyckpKytrlIvNZifiNEpnMBg6Orp6urq6enq6Ojq6unqqqqoCAgJwgQCQKwAAfgoymSyP851tCgsL09LS0tPTUtPS0rGl2v9lZ2c3ajLJwXn2LLA+hUajaWtrd+vWzcTE1NzMzMTEVExMDMwOgFwBAPDrkcAxNjb+1jPLyMhIS09L/JD47t3bd+/fv3v3Njk5uWFHGovFeoNz5coVXoqGhoapqZkp/n8zM3MpKSmwMAByBQBA+3pm6jh2fezqEysrKxMTMfV6+46nX9j/SktL6zf4iHPzpifvp7KysoWFpY2NTW/b3iYmJgQCfKAJgFwBAND+UCgUA5yGiR8/foyKehUVFRX56lVU1Kv8/Pz6Vek43t5eCCFRUdGePXv1xrG0sCSTyWBPAOQKAICOQwNnzBjneolqqF45OTm89JKSkocPfR8+9OV1ellZWffp3duhX7+e1j3h02agI4FAdqAr0jGB7J2a5OTk4ODgoOBnQUFB30Yb8jrPBg4c6OQ4ZNCgQdDXBYB3BQDA74HXATZx4kRebGEQxrOg4KDY2FjeBoWFhddwBAQErHpYOTo5OTk6mZiYgOkA8K4AALyr309hYeGzZ4E+vj4+Pj5ZWVmN1iooKIwcMdLF1bVXz15gKwDkCgBArviC6OjoBz4PfB48CA0LbfQkUVVVdRnn4uLi2r17dzAU8EuA+FQAANqIiYnJ/1b+LygoOCsz++yZcy4uLvWfG6empu7ctdPcwszYpPvWbVuTk5PBXADIFQAAvxlpaekJEyZcvHApKzP7pudNZ2dnGo3GWxUfH79u3VodXe0+fXpfuHCBzYZ5NwGQKwAAfjcUCmX48BFXLl/Nzso5d/b84MGO9cHuL16+mDptiqqayooVy8HZAkCuAADgC+h0upub2907dzMzso4c+demlw0vPT8/f8/ePbp6OkOHDb1//16r5lgBQK4A4A8nKiqKyWS2ZMuampqQ5yFgsV+IlJTUDI8ZT58GRke9njVzFm96yZqamocPfUeOGqmjq713395vR5cHAJAroCtCJpO1tDUXLJh/65Z3w6GG6mGz2c+Cnm3estncwiw4OBgs1h4YGhoeOnQ4PS3j0KHD3bp14yWmpqYuX75MQ1N967atJSUlYCXgO0AgO9AlcB3vWj9+q6GhoYyMzNOnTxFCurq6crJyL0NfVlZWIoQkJSUTPySJiIiAxdqb4JDgY8eOenl5VVVV8VLExMT+nvP3P//MhzEyAJAroOsSGxtravbjARc2b96yfNlyMFeHkZ6evnv3rv9O/1cfMSgsLDxr5qyFCxfJycmBfQCQK6CrO1hNAq7V7yInJ2fv3j3HTxwvLy/npQgJCS1dumzxosWCgoJgHwDkCgAHC1wrPiI/P//Agf2Hjxyun4hLSUlp65Ztrq6uMFU/AHIFgIMFrhV/UVRUtG/f3r379rJYLF5KD8see/butbayBuN0cSAyEOhCrF61urlVixYtBq3iB8TFxTds2Bgfl+Dq6spLCQsP693b9q+JEzIyMsA+4F0BQFfBxdXFy+smuFadgtCw0MWLFoWGhfJ+ioiI7Nyxa/r06WAZ8K4AoIs6WOBa8SdWPayCg0MunL+orKyMECotLZ09Z9Zgx8FpaWlgHJArAPjDMTIyGj16TCPXas7sOWAZvsXV1TUuNn7B/AW8gAt/fz9jk+4nTp4Ay4BcAUDXcrDAteJ/BAUFd+3aHRj4TFdXFyHEZDL//nvOwEEDU1NTwTggVwDQJRwscK06ET2te0aERy5ZvIRAwB5cT54EmFuY3bt3FywDcgUAf76DBa5V54JGo23btj0oKFhfXx8hVFxcPGr0qNWrV3G5XDDOHw9EBnZicnJyPiZ/BDu0jbVr10RFRV27dl1ISAis0QZERUTrR6rteNhs9oKF80+dOsX72bev/aWLl2RlZeG6gFwBfMeTJwFOQ5w4HA6YAvhdLFm8ZNu27b/xAM6fP//33Dm8D4oVFBSuXLnaq2cvuC5/KtAY2Fnx9/cHrQJ+Lw98HvzeA3B3dw8Jfq6pqYkQysrK6tfP4ezZs3Bd/lRIYIJOSr1bPGTIUDMzMzAI0JFs2rQRIcQPcwF379499GXY1GlT79y5zeFwPGZMz8zKXPW/VXCNQK4AvmPNmjXmZuZgB6Aj+e+/U1lZWXxyMGJiYjc9b27esnnDhvUIofXr1+VkZx84cJAXQAj8McDlBADgT2D1qtXHj53gSdSx48dcx7vWz6EFgFwBAADwEVOnTvW66UWj0RBC3t5eTk6OxcXFYBaQKwAAAL5jyJChjx49lpSURAg9C3o2dOgQJpMJZgG5AgAA4Dt6WvcMfPqMNyruy9CXo0aPqp86CwC5AgAA4CP09PQeP/JjMBgIoadPn4xzGVdVVQVmAbkCAADgOzQ1NR/6PpKSkkII+fg8mOg+EQZqArkCAADgRwwMDHwe+IqJiSGEbt709JgB8zqCXAEAAPAlpqamd+/eExYWRghduHBh2/ZtYBOQKwAAAH6kp3VPby9vEonEG9cYJhwBuQIAAOBT7O0d9u8/wFt2n+SekJAANgG5AoDfCSf53HhTNXVj5xPvK9uneFcTDbXuY9uneKA9mTlj5gyPGQih0tLSUaNHFhYWgk1ArgDgJ2BG7h5noaHefdjml6Wtz11Z+DYiLiMjISw2vz2ilisL3uHFh7/5DEHRnZD9+w/0tu2NEEpKSnKb4MYP4/MCIFdAZ6Uyw//8rej0zHhfz2eZHeLBcNmV8NDqIpDJ5GvXrquoqCCE/Pwe79q9C2wCcgUAbYQi32toD4aIiJzloJ7ylPbeW+kTD0WaiJBI/zNp8EFO10BGRuampxeFgtWtDRvWR0dHg01ArgCgTYjZbg3OKMjPfL6jt1i774zDzCvG2/iKKmFK7S6DiYnJhg0bEUJVVVWTJrvDqO0gVwAAAHzKooWLeJ1Y8fHxa9asBoN0FmB6RuBHsJOubdxyJ52kO27N/4YqN6gx1fnB+9adimIrDVuxxkWT2iBLZYr3ti1eichg6pZl9rLE2lRWWuCl05fvBb1OymXRZFUNezq6ebgPUBNqkJGb93TvutOx1XoT1i8bKN+wdlaXvb9/7Pitl2/epuRz6Qx1LSUJMu9lS0BY323FHFsp4teHXZkdcuP8TR+/4Phiupppf7d5f4/uJsbLUV0QfGjzlXclKa/xkU9Tb26Y915EACEBQR23VQtspFppIG5xwsNrnj5PQ98kZXzmiCipa+taDp/z93Bdeu3bICf70Y71FxOqlQcvXvWXnlCj7OVxZ9ft9s8Vs128ZaaxMKo31tNLpy/dC3r9MY9Fk1HDjTWpfyNjPdm19uw7sf4rNk5USrmxbe3he7HFgpp9/9674y8tKlTc5l/SCYTTp8+Ympkwmcz9B/YPGTrUro8dmKUTUAN0Tv73v5UkMpFEJkZERrTvntjx24yxHZHM97xjN0jn5l53FMSPQXf9a1bDHKzYzYZYusjwm7lc3rYlUYfHafAO+Ks/XffzHyq+5CyLWKmNpavMC2E22FNJxO5hqsQmsvP+lGcFleK5I1doYSnKM66cnmFKa7SZtseNtCq8PObz+WpNF6WxJLR5Q5RFrNTENlOd++Xg2EkXpxnQmipKecSB17WbcTMvDhDCEiVdHxQ0LrXg/njpr0+ZWxJ1ZKxmE2VqT2psLOx4BAdferK9r+iXzWwv57V79VNRVSaRid2MDDvvHXTmzBmexbS0NSsqKuCRwv+AXIFc/RBWzAY9bF+UnsdTOF+Si3wnyNQ+Ik33NhSyqsRDFlg63fFaDq5WVWmXnCXxLeUHrz77ODo1KzH0/r/TzYTx7N1XhzG/K1dFgf9o4Fvque1/EJ2ak/Lq3q7xeiQsRcZx7b8nz/t+4G1cJ1e8P4ruyGWHLt+4eHCJozIvRXLcLVw+uSWxXv/u3bvFwxBPVxi1ZveePXv37Nl39HYCs1Vyxc04ZUUmksQNh/2z68K9wFex0UH3Ti0fKI/vjtzrSGJVrbJ7jhTH9iXhfOvz14Xm3xsniW2svjSsrKbWWGOk8FNQcFxVZ6wjHua8N4Nua8KZjY+HoSeLrVLqN3PVuqVThg9bElgCctUiRo4ayastmzZvgkcKyBXwB8hVTUWtDFD7Xczi1iUyX/yjWqcNZJsTX4SMk3GmL4VEJtL6X8jEty54PJmBbSYx8mJqVYNiS54v1uY5YTdyuM3LVcH9sfgD3WhjDKuBA7fVDEuUnvi46IuefJErUYftL4vqjpX97qAtDUsXdrrRwPEouDNcGNvYdO+HqpaYoUnvKtXf0+9DKferDUuDF+D6Su59JqN2TcGDCVJYXrFhnrkNN/58x1kcS9dfE8V7vy94NEUeyys5qpGxQpboYOmiIxoaS7NWmylGSwI+czqw+v0ZcpWSkkIXweqAiCg9LS0Nnip8DoRaAD+GpjtiqCJCiBN+40V+XY9Wiv/jTITIKookhGqibjz/VF3Xo/X8egQXIWKP8X3ksPqV//SQ52eEkP6Szc4qDbujRMw9ZhgihMqDb74qaXbnlTlv4rG1KoMGN+gfo6r3c1BBCBW+Csv4JrSLZLHe79ZSK7G62k3Rcpnfj4Z3w0Vn/tqJ+igqDmP6adG/vo/o3Uc4SCOEanLe5dTuTsLWY5Qsdq7+J/1zv3zp9enZGf9SzDYTXfSxA/xirMWbGhnLYnqtsTyjGhtL0G6/52b7xp13wA9RVVVdumQpQqiiomLZ8qVgEH7vdAQTAD9GuNtoRznsWRly41URr5s/O/jee4SodstX2VMRqgrzDOetQMURN0IxATFztVfAHqBlbwNeVyCE5G1tFQUqvwJJ6KgLIYRKPrzP5zS7cwEiXktrvh6EoKokB39qU4Rp3zymZS3tDUQaVm0CXdUAEwtUUcDkdMRtJSiKi09leX2IvIjFNBclTDED/3uUXfuZV3Ve0Fl/JkLIePJobVyKy94GROPG6t2EsbQ1cGO9f9fIWHIT1k3UgdCKtrF06TLeh8Oenp6BzwLBICBXQGeH3n3sQClMiwJvxmDP1+rPYd5vsOfs6P6DXCyICDGDvaKKsS1LY24FYTpi4jKAF0XIzkv8hP2bfdJBhi4k/NWfwph75biKFFc0+6EuRcm6lzxCKP3yUf/cuq04qXcO3sP0UcG2B6MF4a0EqjD+1TGX0x5jWHAL4+4dWjxxZH9bC301eUkJCXmHQxm8SKYGkm/iPlELO/SQUw8y8POo/hR4NqAcIQGLaSM1eR9Fsz8l8Yx1op9sI1sJKTrfbdpYRDJRAKpoGxEUFNy5YydveeHCBTAyEz8DgexAixAzGWcvdsGzOM/vTlx5H6vK17ciKhHSG2ajqEhzNkYhrwqe3Ior69cLxd32wx64Bs6DatuyuOwK3gh7soYWqsJNvB8RhLXHOKo27x3QrVes7nnm7xefLo0xTXFztdMQKkl8evnqSyZCNLsVc82Ff6ddqosjDk12Xno3s9YTFJKSl5YUrmFzynMbt1HSDFyndNu2Kpb74vT91ClzNAh5T888rUCIZDN9qGrtjchlldcZy1ytSWMJ6XzXWEDrGTPGuW9f+6dPn7x58+b69euurq5gE5AroDMj0WO8Hd3zDjP9gU/ilm5l94OLEVIe6KBGIZHsR+mjVwlZj3w/sMwJvr6YX6E9xlGjdhAlkrC4IEIVSHHscb991m3QlrKY8ydDuQiJSRDzQi4fDKkTUMupW/dvna5D+Z1WKXqyeNTSuzkIyQ3ZcGTj7CFGkvgdVRa62NC21sFq4CdqO083X70gsibi7O2P0+eLPDnzjIUQxW76YKW69kwSXYJnrHHH/PZbC0O16yB2bN9hZd0DIbRt+1YXFxcBAXBX+RFoDARaqlfWrrY0hFDirUfvP/j5ZyEk2dtJTwghisbAYeoIoaQ7fomJ/rc/IIQ0Rg/TrvMABFVMFLF/c+NSmG1paCkI2Lonuhppr3qSnBPvf+Pcv4dOXLz1NColPfjYzB6SPxdewHso1XC5bWwBKo44652DEJKfcfn8qhG1WvWdl0O14TN7Y9tEn/X6kOZ/JpCNkFA/j/6M+ttQUNn4p4wFtA0zM7PBgx1541x4e3uBQUCugM5dVaRtxluREUKxNzy97r5HiGY1wggf2I+m5zRQASEU5+npeT0WIaQ8bIQurS4fTbNfXzmEECf4qFdy60dZ5xQkfixDCJXnZRQL6vQZMcFj5lQXJ9tuCkI/XXcJFCFcU0tyitsYf1GZn4HHe0ioyzVsn+OWZmU2Of8JUXHwrH6CmKnOHzt1MrgKIdGB0+3lvpwJTbM/z1hBx7yTYVKtjmT16trRmLZs3VJTA4NIglwBnbquyPZxs8S8mVe7dkYhJGAy0lKSt0a420h7bPHV9u2RNQgpDBll2GCwILrl7DnGeIzBovEr76SwvnquJ/qf2rLtVmrzT2aSgu1gbYRQ5snhqiJS6gbdTC172PRxGDTqr7mr91wJzfmJZzpNXhcPF0y/feNVEebLcIo/MVs1Nruggj4mLijhyrU3zNo0dsqtZcMmeBU3bUNGv5mDRRFCH45vf85BSGKIR++vxnyiW/w9u9ZYLv/7xlgBpzZ/11hA27HqYdWvX3+EUExMDEyQD3IFdHKI8vauprjHgzkj+sNs5Oqa4sRMx9jS61bIDnI2+qrXhWa08MyOvnSEONEHxuiIy2kb2w4Y1N/OylhNTNJg0OwNe72TKprfq5Dl6utbLfFmtprijMS3sa9fhb18FnD/6vGdy917K+mMPfG2jZ9SUbWGDFfHFpL3O6io6euqSErbbIlqTQl0y9l/mxEQqonZ1NOg92i3SW5DrTS0xh6KoqgrNHNrSfWZMaJeoGRHTusp3khDjRae3mnHM5azlgRD08S2/6ABfaxNVMSl9AbNWb/vVmIFVMV2drC2bt0K1gC5Ajo1JOUB7r1q+2d0R/ZX+xLlIG49wV6k9hHs5GYm0lhyjBbeCb20zElHGCFOQWpcaKB/4IvI+CwWQarb4Lk7F5nXZSCSqWR8T4Lkus5uVvx/CzeFcxDZfKn367dvXke8DHn6+M65Xcsm9lXBvK7bc8bvjuEJFpH0Te5aBIgU/LhJVFKDNUJmKy/vG6uJ3QTl2UlJ2SxBNa3vjG/bxMHRjJbeurdxhDYZoayX965f9vR9VagyYNmNkJOj5BFCZEHSN332YtYzJ2rwFhXGTLYU+VafjRbdeXnli7HCngYEPq8z1rwdCy2+YyzgZ7C1se2Dj3UbERkRFh4GBuE7YGAPGISpVXCYuWnJqTkl3wxbxK34nJGcnJHP4n4nN7csK+7lU9/7932ePI94m1P27bac0pzU1JzSugGFuFlXnESJJLJQ/9MpjXfJST7WCx850OpYKqfJ3I2OOzW7qInRlrgVeYmvnj1+/Cw6g8n9wck3Uzy3Ii8pOtjvgV9wTFYFr4yqkuyMnNKmBnfiZl8bJoIdtuaS2mECv2Os0CcP79/zfRLSImPBIEw/zc2bnrzbatr0qfCQ4TcgkB1oZYugsKxykwHWBJqUotqP5t4gCMkbWMkbfK98upwK/cvPsnePIisQQlqDesk3rqwCZApRAKEagiCdItBk7pYcNyLQZDRNZTRbdPLNFE+gyWgYy2gYN/RERRiKIk2VwUm7c+RxOUJI022CkdCPjNWjNcYCfprhw0cwGIycnJzr16/v3rVHXFwcbAKNgQDQMnUUkcGfx/Hnjz/KbBhjwC2IPPnPypfVCJF6je8p3WkqMvv9tSPPuQgh3b/G6dPgAvNbezeJNHXKVN4oghcuXgCDgFwBQEsR6jZ1oZ0gQjUJh0eqMXR6Dhg6euxop35Whipy1vNu5yMk5bT/qLtGp2klKI85dyoOWzCa7Azj/PEl06ZN530mfPLkCbAGyBUAtBiq7mzv8BsbJ9upURHzY0Sg793bdx4HRb7/JCCmbT9tj3+05yy9zuOklL25dC0Ve4nv5TFaiwJXlx9RUVHhfTKckJAQHBIMBuEj3xdMAPD7KxVdb+SKUyNXnKpmF+VkpGfmV9IZ6hpKktRO+K4lbL724XOXUmE1A115uPf4lhkeHj4+DxBC169ds7WxBYOAdwUAraysVHEFTSPLHub6Kp1Sq/D3Q0ldi54W+vJCcOfxMQMHDhIVFUUIed/yhjHaQa4AAAD4FAqFMmzYMIRQTk5OyPMQMAjIFQAAAJ/iPMaZt+B18yZYA+QKAACATxkwYKCIiAgmV95eMOItyBUAAACfQqVShw4dihDKysp68fIFGATkCgAAgE8ZM3oMb+Ghry9YA+QKAACAT7G3dyAQsCdkQEAAWAPkCgAAgE8RFRW1tLBECIVHhJeWloJBQK4AAAD4FAcHB4QQl8t99iwQrPHbgS/rOz3W1la8Ic6AltMw1gus95MG/LPlatv2bbz2wCFDhsJ1B7kC2oKsnFxXe3bAk5ffkJGW+bNPsGfPXjQajcVi+Qf4w+UGuQLayCT3Se/evk1MSgJTtIGSkpLIyAiEkKqqqoaGJhikDYiLiy9btuzPPkcqldqrl01AgH9cXFxBQYGkpCRcd5AroC0Pi3//PQp2aBth4WE2Nr0QQm7j3TZu3AQGAZrD2soqAHetoqOjHBz6gUF+IxBqAQAA0Cympqa8hajoaLAGyBUAAACfYmJSK1fR0VFgDZArAAAAPkVNTU1cXByXK/CuQK4AAAD4GGNjE4TQu3fvysvLwRogV22kIunu7g1Xk9i/sMjKlJubdt1KhFoJdBDV5ZkxIUHh7ws4YAs+xdTEhPfBQ8ybGLAGyFVb7vKSV/96uO7K69FXlfoLi6Uo97EtOzJhxqGIIphEFGh/ip/OMrWwc7AxGHT8IwgWf1LffRUVBd1XvxNSB79I5ia9S0rJzC9voRQIEClUQUERaR1jQ4Wvpgtnvz87x/1ozfwbGxwZv/YciDL2K08tnj966hzq9f9m6AlCHQHaFU5V9Vf/AnwoVya8BYi26BJyxS167XngwHnvJ++K2lYArftCz0vzDXniUV0YvN1j6zu7g/entoucUFWdt+2NGj7NY4uW9wYHaSJUEwDowujp6fHGtoBoiz9erqqLIw7/PX3fyyIRhrKamhSJTCZTSEQBVFOWHpdcjDs08nr6Ul8dSU1NdTW7JCc1o7CKl8BK/fi5CiFMnDhZ91bMuVA48MDaQbLtpSQEid7Lt499MumfZWa+J0YrwcfUANB1IRKJ3Qy7RURGxMfHgzX+aLmqiD258ly2/sSdG5aP1BFu0KCX7zOp17zASoSkRu+7sc2a3kReVsr1mUP+F8jRHLF676beorif9unx1g0PKyw2rxgk155uD0Hcet7S3t5LNm580OvocAZ4WADQhVFWUYmIjGCxWEVFRby4duBPlCvB7oseRi75NqSj7MOz2EpsgWJgq0VvOi9NZejmq4ZIQ09ZuFYvymNObrlfLOu2YLhKex86UcFp4eSDo49tPRLWd1NPUagrANBlkWcweAvZ2dkgV3+uXCFEaCr8kJ32IjwfX9LpZ9Ts1ScIKRsZfvnJzbq/+2IG0lk+xawj5ENQb5x7t2Obr++67XF9ogq0CAKcgrcRr3OJqmbmGiIExM5+ecvraWKFmJbV4KE26sJf13Nu6ccXfoFRiRmFXBGGqqHNQDtDKUqL98TOi4+My6mRNbQwlPsm8pVb9D4yKqNSSs+s29cRSEC7yZWCQp1cZenr64NB/li5agru51eBKfiStpNNS2P72EneJ59XIiMXJzVKhxwlRdXxL6vtK0JPXYt3XtodggS7OsVP/+ntdLUIaawIDZv8dvGwSec+1K7RXhMZvdaoVleqi2Murp23/GjI569yi5hO2nZk5wxLiRYITP5dN3PXQC5CPc9nBrrJNjqMwH9sB18uRMhk/4fwOepwXTrEu5Kvk6scsMbv4ne9mpXE+b/DF9QG9lVuofZUvPO68R4ho7EOHRb7QJSzHmaIUNqtG3Hw4TCAqrn41Ficz0+XOn7RKiyFXVU7aRY3P2DVwB7TeFpFYRjYDOxnpSuHVfHSqHNz+ziue17ckoD1mmreVtzqJibjquZUNzwcoAPkSr6uMTAnG6zRxeSK+db/NQtbUBrQT53aUt/qwf0MhNQcLGU7LvCBKGs9WBuh3Ed3EkCvgFrSTi0/k4yQ6qht915nZiQEXTu6aawm/tJVnee7bOLuKA5CBL2pFxI+Z7x+8sA3KC4tI/zQODVM1l5tm7YtogxM2Nlg1HlXOdkgV7+N39MYWJZwPwjvuGL0G6zVwjY2Tk74swyEpK16KTetb6ykexf9cgWoFCqFQqaQCdVVlZWV2P85grpDne0UeD4c++P9K37ZiEKlUilkEqG6is1isSopWk7j+io05eVR5M3NZdCH3KCgVLa5PhVqDMBDdtzFgLOueI+m3GjNnrzEyvfn11/IRQiJDD374Mh45br3KoK46axTnrmvLTa/Q4mnD4asuDgQeus7mXclD95V15Srig++T/KwBWk7J12hFmYqehOYiJCAirl6M/pWEX9+8/ZXTa2RHNt9eJ1clb+9uG3rS26jLcRHG45sWq6QoJqFOvHqp5Tg1/nz9BUgoB3AWwU8zh0c9030DfuD91n8O1KG66Lhyo3qCs1g3ET9zasTUNHzxx/KB1oKgRU7EdLS0iQSicPhZGeBXHUpuWJ99HuUhcuI3VB94ZY6ZB9D3lYiJGeoSm+mAVPIdP6B3bkcxM0NOLDzQX1/qNrYNYvdNGn1W3WbNN+Fc/JaRClCJA2HMf30GRLiEgrGWrRmdkygq3dnoLDMlNDkClcFOlQZACGDOQv6SH5TD6vzIx++x+8qPXvdb2sKRU5LnoQSOCg3IYuNEMhVZ0JAQIDBYGRkZIB31bXkip38yDcd4R82MXKfP3zU5EYUme42ZowGbW/lGR/ysZccbUZzDXJUJZsRSviSkzE5f/SWULxzDKXcvp8yyaX+PKkKJhrczFKEyMbzL1/4x1T0h713FBk1CYQyiz5mMqsRHcKGAYQIJGITFaHyU1IuHgPBeeqmSHJr/g5gVsBgtp0PeYY8JlfQd9WV5Ir94Y43L4SdG3tkyaxmtpJzvfC4oVyxP338VIMQRVpW+MftcYI6Uw8fSR0z7WIa/hB5tWfqKpVbu4cokFB1cfi+qfM9s5Gq278n57VAqzBVpcvLC6HY8vzEPDZiQDQ70BzcssKKFkidZC8HHWGwVqeDgXdflZWVMZlMOh3aWbqCXJXHeXnjvhVBVl1TrNHua1g5iemlcr1mrN2x6OtxJNgFaYUIIbqsWIuOmChtt/q/dSkjNwTjQVh5txfPUFW8PFPIa67HkQSu5MDt59fatzi+kEiXFEKovDC1oJI3aiEANFlRhMR5Tco0J6/UO8Mkfqowgbp7AmLV+ca7+jKwhba2Nhjkz5cr5utr9/FuJYMVlz1naDYObqiuKGYSRESp33g9NSxmJUKITCO3tDWOpjXh0PGU0X+dS8Z+cWIPThn/lBwXw6RaLDm317k1c2QRKEJkvAmHBU8O4DuQJZV5EsXKySjmIomfiMsRIFFICFUhVFnK4iIEET78IFd1A1tkZWeBXP0WOrgrpijskk8+piV2HiObGpmCICjWhFZhOlZZXoW9v9JIAi0/NwmbZWe29q3z0krjYgqQuvupYx5GrWuKIVCEsUPlVLCgxwH4rk9vbKuMLyX4ROT/1OxVRFFZXmtTbmxGowbG6tKEoLhisHaHIyMjw1soLCgAa/z5csXNfHz6YSlCSGr4zL6t+9ZXgEjCDrWG27qHAFXNZc/JGdpfJK4wO6eM29rj5g0iIEBuhVQCXRGhbuPGqmELFT6bD4WX/kRJwqqmPOHLvu8Zw2yoVa+PThi+LQ5s3fGQiLVtURwOF6zxx8sVO8n71EvMR9Jwm2Imglrr4VCxisLitPKllSCooKv+pRus6PHS6XtfFreqEG4VCztqihAVRrkFvq9XpnPXDsGrdvy2wU7zz7zMYtULTVl6+J0jy5wtu7t65v6w/pFUHCeY4UuZR9ym7PF5k13GLkry2z+1p/XCB4Vg6N8iV6R6uYJmlj9erspiLl14j131HtOdtVs7PASRLiWEvbUWts434uYH75i8+FGxgIKhfF3ah1MzFl1PYbfCuWKVYA8dIUk6dCEAP5IZt6MX/+6GVRRm6JEZfVRExOVU1JQZkjSqhHov5/n77kQlpOS3oBOUoj1l51xNfDHLe8UIUxUJYRn9wUsvv+UgranH9/UERx/kCuSq3aj+FHDMOxdvCJznpNhqN4UqpyWNPQLyCitbIZDx/82efi4JMcYcvup5fbejZG16ScDqqTteFLbUxaoqyMJbMLVkKFBhuvbdQsWDbhCiCTbbMExkDNkbGHl+saM2L4i0PD87KzufiT/gaIoWo5acPubScMCL5sokiPfd4eu5uI9Mw8LFzCYdefny6AglOp6HKgj+PshVV7oEHbSfyo/eRwPKEUIG0zx6iLXhOMVUFAVRQkVBaj4bSbfEN6tM917ivjOMTbddd3qzk4IgGr7rv7SMsQff4FXt45lZ89W9TkzUpP24oKKsAi5CZIaaFMhV10bE7sSH9HX5XDqDIfkdT5sg0m38trvjt5RlvomISc4tKCeIyjKUNAwMNSQprSmTojpyu9+wlYmhL2LSCrh05W69eupL4nfsqFvpadnlNIa8JFyUDpQrIsjVHydX3JJ3j67dfSs/bs5QlTpdKX115mw8QkjUacFYzTaNE0tTNmIgv+Sc+AwW0v1hCdzPz7ZMXuqTT9CfdfKIuw7+nkugm8w5uT91xNzbubjr9WztjC0q19fbSf2giY+V/iYbIaRorg7D5nR5iHQ5lZZ+IEoQVjS2UzT+yTKJYlq9Bmv1apRKkVBQlYDL0bHXnlgnV1yQq9/UvPGLpSr/xV4XmyGztx47sGytV2ptwx0n/f6+G3kIUXsuX+Ig3bZdUuXNjMQQqkh6m/ejbqfKvJB9HrPOfUSiA3edWmwp9mWHJMaQTaeXmdepXeqF2fPPvf/BQAScgg8fShGSNLdWgvHYAaALe1e1L/dcLkQG/hFyVf7W80oEL+62Injl2L8PPEosqcwPOrg/tAqJ9lm5eUzbp5Cn6/UzpiCUFvKm6bg+dsLx6YMdHGyszfStJh2OxpSy5NG6iUsfN/wApiLu3O77n8hffr/cOMppkNNQR6fx6182HXhcFBecjBDFoI82DLvSWYmNja2oqGjJljU1NRGREWAx4DtyBY2Bf4hciVjOX9K3Pkb905N9Mwd317Wa4lmgPmKz59G/NH/CPyFImA8zJSFOwpMEZpNeUFl6wtvktMxcpgCFSqXwuq2ZycmFDasWtzQtNi4Nz08gUag0KoXESn+X8DYhIfp9YZOvTMz3AbFsRDIeagptL52WqqoqHV3tlStXPHzoW1raxGsJh8OJiIzYs3ePjU0vX19fsBgAcsWPl+AXl0dRcfnXi7Jt1a4LYXm8FCnj4ZPn/DN9oNrPjrZHlO3j0oMS+jzkblyJ3dcjCmIIW2wOSdn8IxfNelt48rZW7LTsrU9IIaJYu9rJQRR7p8XU1LRHD6vde3bv3rObQCCYm5lLSknxVt29d/dVVFRISDCTib3FiImJ+cwFuQJArrqCXCGEhLRGbbo2YnVRVmoWS1RJjSH6q/ZBkLOf5ij+/HaA15uSnjaiHWGekhjPB7lIdOjUfgxQq07N6lWr79y5jRCqrq4OjwivT4/Fqf+5YMFCMTExMBfQxPsyyNUfKFc8aaGKK+n88vm9xa1numvePvjozLNlPYfKtPs3Y9X5z88/zEca/8y2ganKO7+DNXz4CJ5iNYeYmNi8ufPAVsD3vSsuf8oVK+neRb9cASqFSqGQKWRCdVVlZSX2f46g7lDnuunU2R/vX/HLRhQqlUohkwjVVWwWi1VJ0XIa18x06l1BrtoJqp778hEXZtw+fD1xwN867Rypx068tt+3VGzoTnc9iAn8kxys5gDXCmiRXPFnZGBF/PnN2181tUZybPfhdXJV/vbitq0vG5+A+GjDkSBXv95rk+qzbE2/gEWn9j52PjK0PfuTuJ8CDpx6K2y3e7m9NEwh/Oc7WOBaAT94VhL5uzFQyHT+gd25HMTNDTiw80FOXbLa2DWL3b4MhyDUbdJ8F87JaxGlCJE0HMb002dIiEsoGGvROsMl6HyVRnHYus1+I+ev3/nEelf/9lIS7ucnO9Y8IDru3zRSCQa66QoOFrhWwA+8F1bttxBUGl8+2qlKNiOU8CUnY3L+6C2hvOGVU27fT5nkUv8QoyqYaHAzSxEiG8+/fOGfls2ozjfeSmd8y1EYtu3oHFnfFevuZbTPaw4n5+Gm/z2QnHV0+zAFEKs/y8EaNmw4uFZAG2DWfQIhIiLC30cqqDP18JG/VGp/Vb7aM3XV/Sz8UVldHL5v6nzPbKTq9u/JeZ1LqzqpXCFEEDVfcHyzddSamfsiiqt/ceHVzOjDs/4Xarnp5AILMWgG/NNYs3oNuFZAGygpqZUrURFRfj9WorTd6v/W2dbNQ5t3e/GMQ9El5e/Pz/U4ksCVHLj9/Fp72c4X7NxpH8cU5VF7b+wwebJ0iWda5a90rDLvrFjyyHCb574xqhBg0SUcLHCtgJZQ2mm8Kxya1oRDxyep1z3XYg9OGT/+r/XBTKrFknN7nTvnw60zew8UxcFbvK+vsJH6le11BAnrJVe8tjgqwejrXcXBAtcKaJFcMevlqnOMx0aQsFl2ZmvfOlewNC6mAKm7nzrmYSTcSS9BZ2/sospoKgr/ypMgCDHUZGhwb3YVBwtcK6C13hW9U3hXvOejmsuekzO0v0ykVpidU9Z5B+iFvhmgSztY4FoBLZWrkpJa74ou0ome8IIKuupf+tqKHi+dvvflL+/w7yAg7q0TU1BQkJaWBnZoAwICAn362L16FdnXrm90dDQYpA2IiopqaGh0Qe9KpPN4V9z84B2TFz8qFlAwZGTFZeNpH07NWKR2519XNSrIFdBBBAUHOTk5slgsMMXPYO/QF4zQZlavWr1u3fquIld1fVeioqKd44jL4v+bPf1cEmKMOXx1c/ewRSOW+BRg6SUBq6fuUL25uqcEBLIDHcKjhw9Bq4Dfi5e3V1fyrpidybuqTPde4r4zjE23XXd6s5OCoNLwXf/9Y1Tnn3w8M2v+pSQWeFdAh1BdXdv+3LevvbmZGRgE6Ej27N3TsBJ2Dbkq5U2BT6PxfSwW9/OzLZOX+uQT9GedPOKug0/eRKCbzDm5P3XE3Nu5uOv1bO2MLSrX19tJEUGugI5i+/bt5mbmYAegI7ly9UpWVlaXOuXS0pLO4VpV5oUcnDnr3EckOnDXqcWWDcY6IDGGbDqdljF6ZyQb+5l6YfZ89Vsnp+oIglwBAAD8Yd4V38oVO+H43wuvfSwtL8rJLeHFqpc8WjdxqdCNPQOk6hSrIu7c7vufyAixa3+/3DjK6ZqqMAGJWK09sd5aBOQKAAAA5Kpd4ZSlJ7xNzkWIQKJQqYhbWcmpQczk5MKG46pyS9Ni49LwPjgCiUImCdRwWOnvEhBCZIlCLnhXAAAAf4xc8e2AgcIWm0NSNv9gI7r1tvDkbZ32EkBkIAAAwA+oqKgoKytDCElKSYE1QK4AAAD4lOxs3je2iMGQA2uAXAEAAPApObm10/PKM+TBGiBXAAAA/CpX9d6VPMgVyBUAAAD/ele5tXIlB42BIFcAAADgXQEgVwAAAG0mO6dOruQYYA2QKwD4WTjJ58abqqkbO594X9k+xbuaaKh1H9s+xQP8LFfZtaEWDAbIFcgVACCEmJG7x1loqHcftvllaetzVxa+jYjLyEgIi82vaoeDqyx4hxcf/uZzFVyqrkV6ehpCSFpauhOMbwtyBQAdQGWG//lb0emZ8b6ezzI7xIPhsiurwe7Aj+DNg6qiogKmALkCAAyKfK+hPRgiInKWg3rKU9p7b6VPPBRpIkIi/c+kccH2QLMUFhYymUxcrlTBGr8RGDMQ4CfEbLcGZ2ztoJ1xmHnFeBtfUWUNmB74gWuFyZWyMlgDvCsAAAC+lavUWrlSBe8KvCuAn2EnXdu45U46SXfcmv8NVW5QY6rzg/etOxXFVhq2Yo2LJrVBlsoU721bvBKRwdQty+xl62YrZaUFXjp9+V7Q66RcFk1W1bCno5uH+wA1oQYZuXlP9647HVutN2H9soHyDWtnddn7+8eO33r55m1KPpfOUNdSkiDzXrYEhPXdVsyxbTwpamV2yI3zN338guOL6Wqm/d3m/T26W+1MddUFwYc2X3lXkvIan/079eaGee9FBBASENRxW7XAprVjmHKLEx5e8/R5GvomKeMzR0RJXVvXcvicv4fr0mvfBjnZj3asv5hQrTx48aq/9IQaZS+PO7tut3+umO3iLTONhVG9sZ5eOn3pXtDrj3ksmowabqxJ/RsZ68mutWffifVfsXGiUsqNbWsP34stFtTs+/feHX9pUaHi/jq5Sk8H74ovqAE6J//730oSmUgiEyMiI9p3T+z4bcbYjkjme96xG6Rzc687CuLHoLv+NathDlbsZkMsXWT4zVwub9uSqMPjNHgH/NWfrvv5DxVfcpZFrNTG0lXmhTAb7KkkYvcwVWIT2Xl/yrOCSvHckSu0sBTlGVdOzzClNdpM2+NGWhVeHvP5fLWmi9JYEtq8IcoiVmpim6nO/XJw7KSL0wxoTRWlPOLA69rNuJkXBwhhiZKuDwoal1pwf7z016fMLYk6MlaziTK1JzU2FnY8goMvPdneV/TLZraX89q9+qmoKpPIxG5Ghl3hXlu2bCnPtuER4fDk+Y1AYyDwIygaQ0ZrYwtvPJ9mN4hJKI26HcGL3ku87Z/aII6Pk/Hk1juEENV2go00VsM46Ven9lvgnYqQbP/l//mEf0xLeH77wJTuFIQ+Xpo6Zkt42XcPoDh49bjlPlkIabrsvh2ZlJ4U5r19rKYAtkp84P8OHDt9crEpvWGGrNPuHqdjqzWHLN537urZPQsH4J/KJJ+dueR+XjVCSLCbx95DO3dsnKKDby4zfOW2nTt27Nyx8/C+aYatsk31pyeHzr/jCOs5zt5+xjsgLCryiffxxfayCKHsB0tmn0vC58YjMAbMHIj5TcUPTz/L/7qEgufnHhZjL+4uE01w14qTfnVK/wVeuLFWnHoQmZT6LuTWwVpjTRu1NaKxsaqiN7msCSpH8nZTV6xa4O402FoRYq1/KbFxcbwFLU0tsAZ4VwAfe1c1NRW1Xgu138Usbl0i88U/qnVv9GSbEymcuhWcjDN9KSQykdb/Qia+dcHjyQxsM4mRF1OrGhRb8nyxNs8Ju5HDbd67Krg/VhLbzGhjDKuBA7fVDEuUnvi46Iu7UXucRBJZ1GH7y6K6Y2W/O2hLw9KFnW40cDwK7gwXxjY23fuhqiVmaNK7SvX39PtQyv1qw9LgBRq4WXqfyahdU/BgghSWV2yYZ27DjT/fcRbH0vXXRPH8poJHU+SxvJKjGhkrZIkOli46oqGxNGs9KorRkoDPnA6sfl3Ku1JQlCeRiVramvDYAe8K4HdouiOGKmIv/uE3XtQ5B+wU/8eZCJFVFEkI1UTdeP6puq5H6/n1CC5CxB7j+8hh9Sv/6SHPzwgh/SWbnVUadkeJmHvMwJyZ8uCbr0qa3Xllzpt4bK3KoMEN+seo6v0cVBBCha/CMtjf9MharPe7tdRKrK52U7Rc5vej4d1w0ZmsX+t6qjiM6adF//o+oncf4SCNvQvmvMup3Z2ErccozOcq9z/pn/vlS69Pz874l2K2meiij7tE9cZavKmRsSym1xrLM6qxsQTt9ntutm/ceQf8ErKzs/Py8hBCJiamYI3fC8gV0AKEu412lMOelSE3XhXxuvmzg++9R4hqt3yVPRWhqjDP8KLapruIG6GYgJi52itgD9CytwGvKxBC8ra2igKVX4EkdNSFEEIlH97nc5rduQARr6U11V99z1tVkoM/tSnCtG8e07KW9gYiDas2ga5qgIkFqihgcjrithIUxcWnsrw+RF7EYpqLEqaYgf89qmtSrc4LOuvPRAgZTx6tjUtx2duAaNxYvZswlrYGbqz37xoZS27Cuok6EFrRTkRFveItmJqCXIFcAZ0AevexA6UwLQq8GYM9X6s/h3m/wZ6zo/sPcrEgIsQM9ooqxrYsjbkVhOmIicsAXhQhOy/xE/6WetJBhi4k/NWfwph75biKFFc0+6EuRcm6lzxCKP3yUf/cuq04qXcO3sP0UcG2B6MF4a0EqjD+1TGX0x5jWHAL4+4dWjxxZH9bC301eUkJCXmHQxm8tvYGkm/iPlELO/SQUw8y8POo/hR4NqAcIQGLaSM1eR9Fsz8l8Yx1op9sI1sJKTrfbdpYRDJRAKpou8lVdHStXJmYgDV+LxDIDrQIMZNx9mIXPIvz/O7Elfexqnx9K6ISIb1hNoqKNGdjFPKq4MmtuLJ+vVDcbT/sgWvgPKi2LYvLruCNsCdraKEq3MT7EUFYe4yjavPeAd16xeqeZ/5+8enSGNMUN1c7DaGSxKeXr75kIkSzWzHXXPh32qW6OOLQZOeldzNrPUEhKXlpSeEaNqc8t3EbJc3AdUq3batiuS9O30+dMkeDkPf0zNMKhEg204eq1t6IXFZ5nbHM1Zo0lpDOd40F/HrvKqrOuzIDa4BcAZ0BiR7j7eied5jpD3wSt3Qrux9cjJDyQAc1ColkP0ofvUrIeuT7gWVO8PXF/ArtMY4atYMokYTFBRGqQIpjj/vts26DtpTFnD8ZykVITIKYF3L5YEidgFpO3bp/63Qdyu+0StGTxaOW3s1BSG7IhiMbZw8xksTvqLLQxYa2tQ5WAz9R23m6+eoFkTURZ29/nD5f5MmZZyyEKHbTByvVtWeS6BI8Y4075rffWhiq3e8nOhqTKzk5ORiL/bcDjYFAS/XK2tWWhhBKvPXo/Qc//yyEJHs76QkhRNEYOEwdIZR0xy8x0f/2B4SQxuhh2nUegKCKiSL2b25cCrMtLXEFAVv3RFcj7VVPknPi/W+c+/fQiYu3nkalpAcfm9lD8ufCC3htaDVcbhubCIsjznrnIITkZ1w+v2pErVZ95+VQbfjM3tg20We9PqT5nwlkIyTUz6M/o/42FFQ2/iljAb+WwsLC1NTUDo+z4DJzU5MzC9lQBUCugLZVFWmb8VZkhFDsDU+vu+8RolmNMBLD1tD0nAYqIITiPD09r8cihJSHjdCt//SHptmvrxxCiBN81Cu59aOscwoSP5YhhMrzMooFdfqMmOAxc6qLk203BaGfrrsEihCuqSU5xW2Mv6jMz8DjPSTU5Rq2z3FLszKbnP+EqDh4Vj9BzFTnj506GVyFkOjA6fZyX86EptmfZ6ygY97JMKkWn7hWCCGzNsdZVJflZha06lIyn83SUdbUUZex/y+V/0zS+vMBuQJ+Q12R7eNmiXkzr3btjEJIwGSkpSRvjXC3kfbY4qvt2yNrEFIYMsqwwWBBdMvZc4zxGINF41feSWF99VxP9D+1Zdut1OarP0nBdrA2Qijz5HBVESl1g26mlj1s+jgMGvXX3NV7roTm/MSNQ5PXxcMF02/feFWEvchyij8xWzU2u6CCPiYuKOHKtTfM2jR2yq1lwyZ4FTdtQ0a/mYNFEUIfjm9/zkFIYohH76/GfKJb/D271lgu//vGWAGnNn/XWMAvpj7OwqRNcRbc9EujlMSU1GVFjZe9LGtxrsoy3iVms/hspgBu+qXRCuLKqnJiRstDy0CuAD6GKG/vir9jcjBnRH+YjVxdU5yY6Rhbet0K2UHORl/1utCMFp7Z0ZeOECf6wBgdcTltY9sBg/rbWRmriUkaDJq9Ya93UkXzexWyXH19qyXezFZTnJH4Nvb1q7CXzwLuXz2+c7l7byWdsSfetvFTKqrWkOHq2ELyfgcVNX1dFUlpmy1RrSmBbjn7bzMCQjUxm3oa9B7tNsltqJWG1thDURR1hWZuLak+M0bUC5TsyGk9xRtpqNHC0zvteMZy1pJgaJrY9h80oI+1iYq4lN6gOev33UqsgKrYYXL1JYq9LXEWrMzQV5/x53xCaEp5JzlnDrOgoLTpWeBYGWH155Nc3uJsIFfAb4CkPMC9V23/jO7I/mpfohzErSfYi9Q+gp3czEQaS47Rwjuhl5Y56QgjxClIjQsN9A98ERmfxSJIdRs8d+ci87oMRDKVjO9JkFwXm82K/2/hpnAOIpsv9X799s3riJchTx/fObdr2cS+KpjXdXvO+N0xPMEikr7JXYsAkYIfN4lKarBGyGzl5X1jNbGboDw7KSmbJaim9Z3xbZs4OJrR0lv3No7QJiOU9fLe9cuevq8KVQYsuxFycpQ8QogsSPomxFzMeuZEDd6iwpjJliLf6rPRojsvr3wxVtjTgMDndcaat2OhxXeMBfxCampqAgICeJMIq6urt6EEQXUHexXs2ojZjTAS6QznXOw3WUVcjiEhPcIrv4nz0ag7n77DvzqfYv8pShIMWUmZ4d757XxJABiEqeVwmLlpyak5Jd8MW8St+JyRnJyRz+J+Jze3LCvu5VPf+/d9njyPeJtT9u22nNKc1NSc0roBhbhZV5xEiSSyUP/TKY13yUk+1ouEGcHqWCqnydyNjjs1u6iJ0Za4FXmJr549fvwsOoPJ/cHJN1M8tyIvKTrY74FfcExWBa+MqpLsjJzSpgZ34mZfGyaCHbbmkrCymh8YK/TJw/v3fJ+EtMhYMAjTLyU8Ipx3i02a7N6R+y16PF4K36/ZwaSOPueCW0Pp+LBevc5lc1uR7fYwIdxWPVuVrbVAIDvQyhZBYVnlJgOsCTQpRbUfzb1BEJI3sJI3+F75dDmVBuPVlr17FFmBENIa1Eu+cWUVIFOIAgjVEATpFIEmc7fkuBGBJqNpKqPZopNvpngCTUbDWEbDuKEnKsJQbPJ9mpN258jjcoSQptsEI6EfGatHa4wF/FIePHjAW3ByHALW4IvmHTABwNfqKCJDRygfxZ8//mj89qGK9e2P3ILIU/+sfFmNEKnX+J7SnaZVm/3+2pHnXISQ7l/j9GHkdH7G18cHe2kgEAYOHNjWMrilHyMjU9hSBj2MGE1+3M3Jf/PYJzgupaBGStNy4NA+mnRCSwp94RcYlZhRyBVhqBraDLQzlPr280NOwdvwmFyiipmFBj4iGTs73PdBcFxOlaiyoe2gASZyX2dhZcfFpZeVfCzmhXeUpbyOCEvD3gIFqDJ6Rmq1g5rh55PMljKsOx9WdlxsenlJUhEvGzPldXhYOp6NIotlQ2WpUeEfSmhK3c30pJr6RrK6LP11xPsiqqqZpZYYERoDoTGwM8N6e7g/vXbccQlt6/5DRjmPcnToYaBA4iXKjTiaUNF5TqcsbJkWfi5mOxPYnfiy/PGNgXl5eWQKVsf69rX7iXa9R3/J8OaKO5D0TcNwxYcbS/rKfjWlmZDBX0dCU3ybbQzkFr0+908fRuOJ0MQtpx8NK+A2uWud1a/KSmLOzu4h9VUWxoD1fjlfWpGr3u0zbXY+OdV5z5l17ZQT8YkFyKa886l6t9esuVxk5X9eMDmpx614P023x7GasFBJoIcimXecURUwIjvQuaHqzvYOv7Fxsp0aFTE/RgT63r1953FQ5PtPAmLa9tP2+Ed7ztLrPE5K2ZtL11IR5hF6jNaiwNXlY9fK17empgYhNNjR8SeKqebW1P7bKGaOnXjKzdZ1fwgvMoEsqSArhBCqend1gW3/jRHMJp2q/IBVA3tMOxryGSFEYRjYDOxnpYv7SKVR5+b2cVz3vLj6211X5fkt62sx/VRkMUJIWKzOxfv0ZMuQ0fti64NqyYL0ZpvaRCXqh5FufD7fz0YlEhl2Y3lt5LFnb7z7NoS3OPzs7VxsQWGQk/aP72NwU8C76ixwWYWZiTFhoRHxqd8P6OBjqvLfhj8Pj88q43bua/HHe1fj3Vx591dMTMxPeFe+vKmiG8+pVpV8apAwr3z5EXuCcjBHm8v8cHfTcOUGDspX3hU3995UBTyd3G3m5fpZpbmFr45OqJ32TG95KPPbXeN/VJPpJ17gu6lI81vXR6y2uWKUV159ReRyqtjs3JtOvFCLnqfTWGweVV/qatFDN0m8QOP68+Fl8xrCC7Ww/iZb1cdjNhR8d1orwxuHFhU+miiL705z6ffDjsC7AjoZBKq4gqaRZQ9zfRVJaietuSRJXYueFvryQnDn8THFxcX37t1DCCkrKxsZGf36Dsz4s3sCcFdDff6Nc4tscReJIKw1dLVX2O25ek1lqXx/fv0FzA8RGXr2wZHxWnWeCEHcdNYpz9W62HLi6YMhRU1VOpMlPo+OeVjju6Ep91tz9YQTHnbEDLwRVT/8CoFIolDIxNqKKUAkkyk8SN+tqz/KRlIZOrMP3pCQcuVizNffFheFnvUpxBa0/vpB2FHtvqBqAgAANOTCxQsVFRUIoYl/TWyH4is/+tz8gC9ZLJhrJdZwFZHhuPv2IdtvGtjYH7zP4gNsMFwXDVduFJFAMxg3UR9//D9//OGbr5Hl3D3vbrGXaZCHKN93Aj6eGipOSilub2MS5QfNHoCrY6bnuaiGzZyFz8/54vKqP3Fsi1r0Qa4AAAC+4sSJ47yYwOnTPdqh+NK3QR/xBW3H3grfKBNJSlOh8ScX1fmRD9/jK/Xsdb/9dIEip8X7zCM3IeububVljHS/mWhaSEFLGl8oL2z/sZQIsvYzhuCDt+TcOhP6RR4Lgs8+wn8ZTxmj3aI5cUCuAAAAvvAs6FlCQgJCyNHRSVlZ+dfvgFOYmo2LCknZUL5lU5dVfkrKxWMbOE/dFElkSuM/OdcAfJRmNrOiRaM1EyhCtbPRVXbEsIQStjNG4cNzfr5z6nlhbWJ+8Dm/EoSQgOXUutlJQa4AAABa61ohhGbOmNEuO+CWF/NC5Giigi2cAIdbVtiCkSIJkr0cdPhykjQRy6njlLCFYt//nvGCIT8FnXtcimm2zbQhqi38/hfkCgAAoJZPnz55eXkhhFRVVQcNGtwu+xCg0HiPZ1ZJRQt9G6KQOK9vh+bklcupqmz6j53zbK2ZEF/aVdjE3V0LWyh99F9AbjWqznt2xr8MIUTpPd1RqaWz1oFcAQAA1HL23NmqqiqE0PTpHgRC+zweSeJKknjJnMx3uewWZSFLKkvwFC4no5jbGQ1LMxg/pRu2UBFw0i+H8ynwzJNyhJCgw/QBjBabGeQKAAAAf/MvLd2/fx8mKCTS1ClT22s3BFEtc3zOaJT46EVuY/GpLooNiGkcrkeUNrbl9aIl+ETkt+csHQK1IemVJRU1bcjGbjYbRdt5uqUAVvKzUz6v/c8+qUAIiQzycJBruQiBXAEAAGDs3LkjLy8PITR58mRZWdl224+QwbD+MtgCN2TXodCG805Xl77+d8KI3W+/zdJt3Fg13Dnx2XwovLTdDo1El+C1Jua8Sa9oS7bYjOaykVSHzexNwucV37N6+xPMrRR3nNZbqjVHB3W0s2NtbSUsLAx2aBU1NTVsNrumpoZKpbZXm88fTVlZ2R92Runp6fsP7EcI0en09es2tOu+RKzmzjI4sykeoY/7xkyQunDwHwc1Smmi/+ktS/53KaHJ2D4h07lrh5ycer8UxW8b7FSyd9fy8dYKvP6s6rL0SP87N86f9SUtf3zZWe5nqrOQhpUaupiPUO7VTccnXZhrJZ4f+TiM0GuYhdT3OpiE1K3U67Idcz8/D88WSug1vGE2oqLjrP6Cz3wrUOLjBCxBevi0XhII5KoLICUt/Qc/OzoM3tegQNuQlJD8Y85l9ZpVLBYLIbR06TI5Obn23RnNaOGJ1ff7bn7FQZ99VzvqrG6wTu2vI0vylsx91KhiklTcjl6MdBp9JJbLDD0yo8+RGUJS8uKUypJP+cw6gTPLZ9X83IERlQZP60uNfMpGZU9X9lFeiSfKTvHrb2FH/262QdPtqBGBWLYVdior6rINsOjTIBtBrt8MJzHfm7VNnfKjp1iKIZCrrsAk90mvX0cnJSaBKdoAk8mMi49DCCkoKCgrKYNB2oCYuPiqVav+jHOJiIy4fPkyQkhRUXHhgoW/rFwCVQgfPQJRG80rTRDpscYnQGLuzDU3Er6MQyFlMWXjoZ3TtSIm/g+hCizTV5rAGLI3MNJq68pN//p8qECoPD+7PitN0cJx/JyVLl8GvGh21/hKshDvgy+KYCMJIKm5nz7/ZqzH0ciSetfJsIcyrVGhtEaFYtnOxYyb8W+DbN0slRoPVSFpN9dN5ebRNGxZeewks1ZO1ibAG3UYALoUYeFhNja9EEIrV6zcuHETGKSL4+BgHxQchBA6c/rsX3/99QtL5jJzM/O5dAajmWEu2XmxoZHvs4oFxFUMrHroSvDUg1Ock8Uky8pL0ZrMVF2W+SYiJjm3oJwgKstQ0jAw1JCktG7X1eX5mZ/KhWQUpZocvpJblpP09u3HXJagvIG5scqXSbi+fz5YtoR3H3NZQgr6Zg2z1e8298YobTefcoQ0V4S+3mRKA+8KAACgpdy65c3TKjMzswkTJvzawn804TNVtlsfx27fPJfFGCrfaScjCCsa2yka/8yuCUJSyqrNhzkQhRk65gyd1p4Pls2iqWy1cNLuHH6Eu4T6k1wNWj3xD3QyAwDQdcnKypo9ZzZveefOXQICAmCTdqPy/XXeVNrIdKpzy4YJBLkCAABAiMvlTpjg9vnzZ4TQhAkT7PrYgU3akfLX50/F4rJjPX2ERhtmJwW5AgCgi7J27ZrgkGCEkJ6e3pHD/4JB2pXisBMXUrAFcu8ZQ5Tb0g8FfVcAAHRFfHwe7Ny1EyEkKCh49co1+HixneGU5JTLqqpJSBm5bhgmT0QgVwAAAD8mPT198pTJvOVDBw8bGhqCTdoZkrLrpSjXnyoCGgMBAOhi7/kczoQJbgUFBQghd3f3SZMmgU06BSBXAAB0Lf75P3vnAdbEssXxIZCE3oVIr0+aIkURUKwoIBYQewV7w4pdrxWuWMGClGu7oiIKNhTFBogUKwgEEaRXQXpJSML7kgXk0sGglPPTL8zuTjZ7zib73zNzdsZ+fXhEOEJIQ0PjjOtZcAjIFQAAQM+itrZ2/fp1nl6eCCFeXt6bN3x4eXnBLSBXAAAAPUur7O3XX3C/gBDC4/E3rt9QV1cHt4BcAQAA9Li4CtMqAoFw2/e2hcVkcEvvAjIDAQDoF1rl7uHeoFXm5hbgFpArAACAnqVV69at9fD0AK3q7UBjINAvLljdVBno4dBotNVrVjVo1Z3bd0CrQK4AoOfi6+t74uSJ4uLitqvV1NQ8eHB/z57d4LG+QUZGxtixY/75558GrTIzMwe39F6gMRDo+1haWqqoKu/YsV1HR8dklImJiQmFSsE2FRYWvg57HRoaGhwcHB7+prKy8lnQM/BYH+Dx40dLbJdgzwLz8fH53PSZNMkM3NKrgekZgX7BsePHdu3a2W41I0OjV6+CYRaJXg2dTt+3by82HiBCSFNT0+fmrUGDBoFnQK4AoBdQVlamrKJUVFTUdrWAhwETJ04Cd/VesrOzFyyYj023iI2xdPbMOR4eHvBMHwD6roB+gYCAgL39hrbr6OnqmZpOBF/1Xp49C9IfpodpFQ8Pj5fnP/94XQStgugKAHoZxcXFSsqKZWVlrVXwu+M3ZcpUcFRvpLKy0tHxiPMxZ+yCNmjQIJ+bt2CcdYiuAKBXIiwsvG7tuta2DhkyxNJyCnip11FbW3v9+nUNTfWjzkcxrZo7d25kRBRoFURXANCLKSgoUFZRqqysbL7pxvWbNjY24KLeRdTbqM2bNkVGRWKLvLy8x4+fWL5sOXgGoisA6N2Ii4uvWrmq+Xo1NTVra2vwTy8iOzt7ie1iY2OjBq2aN29efBwZtAqiKwDoI+Tm5qqoKlMolMYrL1+6Mn/+fHBOr6C6uvrEyRPOzkcbouThw4afPHXKYLgBOAeiKwDoO5BIpGVLlzVeo6SkNHv2bPBMr8DX11dTS2P//r8wrZKSkrpy+err12GgVRBdAUAfJDMzU/V/KjQaDVt0v+BhZ2cHbunJVFVVXfO+dvbsmfj4eGwNNzf31i1bHRy2wfyKIFcA0JdZvWaVl5cXQkhWVjaB/IVAIIBPeuy9hZvbea9/vLDhlDBmzZrl5Pi3nJwc+AfkCgD6ON++fVPXUGMwGK6uZ1avWg0O6YG8CX9z5oyrv78/nU5vWGlubrFjxw4jQyPwTz8EhrgF+h1lZWWFPwrHjx//7t07dTX1rKwsaWlpcEsPgUql+vr6njnj+v7D+4aV/Pz8ixctXrt2naqqKrgIoisA6MtQKBRfX9+nQU/ev3+fmJjYZCuJRNLT0x81atTiRYvFxcXBXX+EvLw8D08Pd/cLeXl5DSsVFRXXrl1nu8RWUFAQXARyBXIF9GUyMjLc3M5fvHSxsLCw3coEAmH27Nkb7Ddqa2uD634POTk5/nf9/fz8QkNDGAxGw/rRo8dssLefPNkSh4MEZgDkCujT1NbWnnc7v2vXzsbDWAgLC+vq6ukMHSokLIzD4aoqK+PJ5Pfv36Wnp//8VXBwbN60+cCBg0QiEdzYTaSlpfn5+/n7+YVHhDdeTyQS582bt36d/eDBg8FLAMgV0PdJT0+3tbMNCQnGFvn4+BYuWLh8+YohQ4a0do9/6fIld/cL2dnZ2BpNTc1/r16DiyZ7SUxMZKqUv9+HDx+abNLR0bGxmWlnawftsQDIFdBfSE5OnmA6PjMzEyHEycnpsNXBwWFbRzo/aDTapcuXtm1zKC8vx0Kxp0+CdHR0wKW/SGxsrJ/fHT9/v7i4uCabDEcYWllbW023UlBQAEcBIFdA/7p/N504AQuSNDQ0Ll68pKer16k9pKam2toueR32GiEkKioa9PRZazEZ0AbZ2dmvX78OC3sd9Czo69evjTfhcLhRo0ysra2nT5suJSUFvgJAroB+R0lJia6eDtYRZTjC8OHDgK5llFGpVJuZNo8fP8LyBqM/xYiKioJ724VMJoeFhb0OCw0LC0tNTW2ylYuLa9y48dZW1lOnTh0wYAC4CwC5AvovS2wXe3t7I4SMjYwfPgzg5+fv8q4oFIqVtVVQ0FNsCqWrV/4F9zanpqbmw8cPrCgq7M2bsBbTL7m5uU1NJ1pbWVtaWgoLC4PTAJAroL/j53dn9pzZCCFJSclPH6Pb6LFnMBg2M22Sk5P87vgrKyu3Vq24uHiI9uCcnByYa7gx5eXl4eFvWFFUWFRUZFVVVfM6oqKiRkbGxsbGI0eO1NPVw+Px4DcA5Kr7qUp+eMa7wnr7bBX2pTVTU/2O+nDOWT9NFQboZA8MBkNNfVBKSgpC6N7dexYWk9uoHB0drT9MDyG0f/+B3bt2t1Hz4cMHVtZWWDdY9KeYjh/Phw8fBgwYICsr29sdW1lZSU4gk+PJZHI884Ucn5KS0vgBqQbk5eVZ+jTK2MhYXV2dg4MDvpYAG4FBmNq7CJZ8dF+14pb0wRsKbH0EhyBrYlyxcP7SzPNuq/WF4THIX+fhwweYVllZWbetVQghCrVuvitKdXXbNS0tp5iZmQcGPo6Pjw8OCR5tMrrdI4mIjDhy5EhaWuqnj9G9MXKKJ8c3iFN8fFxaWlqrd7scHFpaWiONRxoz/xvLyMjA9xAAueqkxlTmJSckpWUXVtE79gYcJ4HIw80vrjpUS4q3kXZUJ15Ztci9doPPIXMSm13FKT5u94Ut62farSLeurRMjQe+i7+Ii6srVti4cSN797xm9erAwMcIoQsX3NqWq+CQ4CNHjrx8+QIhdPLkqZ4/HENJSQkmTvHxcVjkhGX/t4GkpKSGhubwYcOMjY0NDY2gLwoAueoa9OJo3zOnr9x7mVDctR1wa2+4fWO9Fks8GEVhjiv+Thh9+ontoG5RE6L8zKPHP05eseyQyt1DY8Q54evYZb5//449Eaynq8f24bonTTJTVFRMSUl58OABjUbj4mrhVxMU9NTR0RHLfccYM3pMD3FOQUFBVlZWdjbzJSsrM4tVYC1mFRUVtf1eKSkpdXUNDXXmCxN1DREREfi+ASBXvxhSlbw/u2rlyYhiAZKsgqIoFx5PwONxHKi2MiPuWwkroBmopi72H4tra2sZlJLctMyimrpwKjWlsAYhHoRo2fd3rLtaZHp270SJbhMSnMjIHc42kxZudNAN8LSRhqbZrhIVFYkVLKdMYf9ZwuFMJ5h6eHpQKJTY2NihQ4c23vrgwX0nJ6e37942XikqKqqlpfXbzKdSqVksMar/16icnU2lUju4H1lZ2TpxUtfA/gkJCcG3CwC5YjNVse57LueoLTy+b4fV//gaNcIUPrIzWhtCQUhsxvHbRw1aSmympPqsttgRQlOessflwChBZpiWH/T3X0+rhh3eZibZrVEPTthwzTaTu1sOHg4YeXYaCSKsrvH2bZ1aDB82rDv2r1v/oPGHDx8wuaqtrfXzu+Po5BgT00L+xciRo34l0YDBYJSVlZWUlJSWlpaUlpSVljKLZaUlJVi5hFUuLS0tLSr6kZWVVVBQ0NmPEBMTk5aWlpGRVVdTaxCnX8n7BwCQq47CM2RrwIdtzfsKKr4Gx7K61Qkao1Ra+TES5aYc9NFCSmoyfJheVMZ4OD4qkZizeYpct3uIU8pi8yKX6R6OZ96OPTKCzZMkULODvG6VmK60Ue3bnWPR9Zqhr99UrioqKrKyspqsbBjQtvDHj+bziQgKCpJIpP/KlS5WiI39TKfTfXx8/j7qRCaTWzseERGRiMgIKpVKq6mhsqhhFmpqsEXWS1kZS3Pqhae+zFzAhoD6RQgEgpSUlPTPf9I/y1JSMHov0Ovo84nslIST5pauKQghrQPBtxd3SH3oWbeXjHMIV9gW+GC1yu+YFZ2a4jXD9DBZ5+CLG4vYq4/f/ayGbyve+Chww//69NVpgumE4OBXnJyc1VWUxutjYmLGjhtTWlra2R06Ox/btHFTw2JGRoaSsiJCyNjYODc3Nzk5uSdYjcPhhIWFpZg0aJG0NGtRRkZGTEwMUskBiK56D/TvH4NTWCVVM6MOJvdRkv08wylIa66FAuH3HCVBzmLR8L+3RXndIM/cPpiNcRCjlsFAqJbB6OsP1zFY86NzcjZtTCWTyV3QKoTQ+/fv/vM7qU+viI+Pbzc9oWvw8fEJCgoKCQkJCjD/CGIvDWVB5oKQkJBAXZlZk4+PDy5hAMhVX6E07sUXVkHBbLRsx8Sn6ou/TyJCg23Gy/w273BKGlpqoqho/ztx6wfrw4PDnYbIzY1lHDAYjMbp4zY2Njm5Od+aBUN5eXl+/n5YK5/BcIMmW8XExJYvX/GfL0X9wA02M2wmT57s6OgY9TaqjeMZYTBiwoQJXHg8gUDAs14J+PoC8y+eSCTy8fM3CI+goCBMQggA/VquysnPolmPgUqbjlfg7lhslfT4cSZCiuOGSfzGvAdOCQPz/6HoxKB75G36eqBXnUVGRhorfPnyRV1d/adfOTk3bmjhMayot1GYXE2aOOngwUPt7v/r17r+rYFSUpMnW06ebPnsWZCjo2Po69AW62tra//11344LwAActVBKhIehfxgFkjjzTqYa0DLjQrOREjcwFCm5c4eSvL9ay/yOAhEIpGAx3PhGDQKlVpDpVBpPIMmzxothYVw1d8eXX+Wg+pq4WqplOrqagpRZfLM0dItBnkEkp7+AJSYFxqSTtFT63n9TJSkB97P8ziIBCKhzmwsg4BK5xlkOdOkzmxKSoD3s2yW2UQCnoNRwzSbSlCxsBkr3a0Nq7q6epcvX0YIvXv3rrFcsYuPnz7VfVD93FcTJphOmGAaEhri6Oj4/PmzJvUbP4AFAADIVXtUJT55kc8sDBhjptbBiKU49lUyQhxy+oqtyFsl+crho+9b2iJqM3h6vVxVJVw/4hTRdEwNYSutaa3IFeKR11fgvP49NSS60F5NqscltFfGX3F0atnsGYOn1ctVZcI1x6Phzcy21pzazXKlp1eXaP72bdTChQvZvv+GqW+HDv3PVI0mo0xMHptERkU6Ojo+ehTQsD4uLq6wsFBMTAwuMQAActWBgCA56BlrHnNRkynqHeyTrvj2JoGKkKSGIn8rPQm8OptcnPNqEC3/5Snnx7n1qxVtdjvMU2lob+TVWrhpdo2Hz/tShLiUxtqMUx8oKiQipa3SaoskTkBxMAm9zUp9m1I1W6rHPf7Cq7vx1Im8GkTPf37q+KOfZs/Yu3VuI7M1F22aVeN+610ZQlyK42zGaZBEhESlhqpyd/PhaQ/R5uXlrays9L3te+zYcfZmaZeUlGCDMEmzaF7BYLjBvbv3Pn365Ojk6M9qY0QIhYQEW1lZwyUGAECu2lerlKeBGYj1YNPAvPDAJy3V4cAPGGKkR/p5bavI/FqAEBJXkWztekeUHjkVuwiZD8X/mHYkEhsiNeX+45QlsxrcSZTSVqZllyKE17b3ubpOV7D9bnTCAAURhLKKv2WWMxB/T+t2J8qMnIKNX2qhjf8x3SmizuwHAamL5jQyW0eJllWGEH7IRp8r9joCv8sMIpE4f958Ty/PgoICX1/fBQsWsHHn3te9sVSLRQsXtVFt6NCht3xuxcXFOf3t6Ovr63/XH+QKAECuOkB14gN/LIWdHnt285pWaknOuR7YSK4o378V1CJEEJPgb785jmeQratb6kxbb9YTp9QPx+z2yvs7W0pxIUZJ1Knl6+7kIPm57p5rO6JVTFUVIEnxotjKwqQ8CiL13Kd6eQYtOeuWZm17vd7s5bvkbp+oM9vFbr1fDpKff8F9/e/TKow1a9Z6enkihE67nJo7d27zpPauQaPRLlxww0YfX7p0Wbv1NTU1r/3r/de+/cdPHEtPT5eTk4OrDACwhT6bO1sZd+ceK7bCSSipNkVFVpApVYYr3G4eMBRo9C7qj/QihBC/hGCHdJxTbOxej4Mj6xsa8+9vXHn2Y2ll4lV7u/Nkuqip85U94wZ0+KrJyS/CixAqTv9R07N9yyk+Zvc/B4wbzL63aY3rx7LKxH/XLnWLp4tOcr64rxNmswstLa3RrFFlo6OjT5w80XZlIcG6ofD42ht26MTJE9joFWZm5vLy8h08GFVVVfcLHqBVAADRVbuUx/gEsDpYNByu+y9vNjQFo6qkAicgQGyq1ozqCipCCM+D76iOE1UWuLqlzFh0iRXJ0WLPLp4bzBX/uZyot+3y8VnynelCwRH48MwIr6ya0eP9S1RdcNojdeb8S6mY2a6L57/Cx8eUE/W3XTw5U/4PZTa6nHYZbjCMSqUeOLDfwtyijUFmBw0a5LDVgZyQsGB+W82GiYmJhw4dxAY0cj7qDNcLAAC5YjfFkTcCCxBC3GNWTlNsISUNxyMk0NL7GNQKZmTDxY3v+OA1OBGjHRcPp07d87KMuVga/xkhhSWe51cO7uSQAzgCL/NQadXVHZylqyrmxKyZZ8mUdiu6Wqq5tvktUFx048G+YZ06XpyI8XYvp1SrnZjZZfExCCkucXdfofXnRlrQ1NTct++vPXt2U6nUqdOmPAt6rqSk1FplR0entveWm5s7bfpUCoXp392796ipqcH1AgBArtgLPfup19NShJD4lBVjOvWwLweOGVYxGLTOxTdEhVmnPVNnzvVKrBvsqDgnr4KOxDrZIMagMz+Wg6ujJ4UgN37x2povxdTWx1iqSrp7M6xae/pMXaHWDoaDAy+gNF6xC7l7RIXZp9xTZs33qDe7KLsrZrOVrVu2PgkMDH0dmpGRMcF0fNuK1QYFBQWTzCYmJSVhc2g5bHWAiwUAgFyxG0ryXa8IZpCkPH+xbudGOMcReYkI0WiUTuoVwvFID1ISRIkldXL1xGHlcZmbO0YIdaJzkF5TxTxqPB+xg2eFU3iojf3QNgUw//aHm2Elo5ft2qTWHbnkOB4pNcVGZj/dvvSEzO3tBkJ/rE+Uk5Pz7t17FhbmkVGRGRkZIwwNXF3OzJkzp1M7CQ4JtrOzxUZt19DQePgwAI/Hw8UCAP4sfTDVoiLmX+9EphIPW2aj0slrNCe/OC9CqLqogtapcK4wzGmxQ2AJh7TmwPp1Xz1WbPVJpXQmuKourUYI8Ynw95JZr+iFr/+22/ykidmrNnXObLYjKCj46NFjbCTAoqKihYsWzJo9KyEhoSPvzc/P37p1i6npBEyrVFRUngQ+FRcXhysFAIBcsRvG95dufnkIIbFpay06PUYtkaQshhAqyy+idkIf4z3XrLj0DZFmuPr63jhlLlq3vuzlzqXH3hR1OE6r+ZFTxjxwFQlCr7gtiPNct5RpttW5WzdvnTRrMPvFruVHO2F2NynWkydPV65YiS36+/sNHqI1yWySn9+dFmcyrKqqCn0damu3RFFJwcXVBZtVZ+rUaSHBoU0mvgIA4E/R1xoDqcl33F9UIoTUl60c1vlpu7mE5KR5UELVj/RCChrQkfw2aoafw5K/oyj8I/dePWQuxYOmOXumZc4+/ZkVnn27vHyjwj2PBSod2BW1KLuQjhBeUlGs58sVNcNv+6Kjbyn8xvuvHLRgmv33xbRMG5dYltkpF1dsVrh3YZHyHxz7kI+P7+zZc1ZWVstXLM/IyEAIvXjx/MWL5wghOTk5HR3d8vKyiooKWVnZL1++xMXF0ek/E1z4+flPnjhla2sLFwgAgOiKDdBLEp54OLs8TG/U8lT68dIlMvPuerL9zC5dK7llBw9ECOXGZ1Z35BAKgx3tNj/+gVNfefHswv+xHu3F8Wuv8zg5XbI+BgnZv/RwcEEHcv2qM2JzEUIyuoo9fUB2ekHw34u3BBbi1Fb/47qo3uyh6y64/DQ7dN9Sx1cF9D99qOPHT4iPI3t6eGEz1mOkp6ffu3f3+fPnERERvr6+MTExDVolLS196NDhpK/JoFUAAHLFngtm4Zvj84zN1zq6nXHY459W13JHy3jo4puPEHHEjm1jxbtkGnGgzmAhhKq+kfPb63+h5r8+vXLFlRQkaHrSc9PwRtkFXCQLx4sO+vUxUtq1deuvJFa1szvaj69JpQiJ6hnI9Oh5f6n5r12Wr7j6DQlOOuGx5b9mTz7iuf2n2d6r1//brtndDzc395IlS95GvQsJCd27d5+5uYWEhETjCry8vCONR27csPG27+2kr8k7tu+AoWkBoAfSSxsDK77cvv6+nFWsCt1js/r7kZ1Lxoh8cD0VVYMERu8+OKPLU8jzq5lqE+6FpL/+XLJWVaK55FWTPVdv9kkuqyrOzSvFbslLg/Ys2s5769hEsfrqVXGXjj/KJyBUp6NV4YdsJt6S48dxCBjs9vprREvpiiVxoSkIETRGq/L3QIdTEtxXb7mZXFZZnNdg9pO9i7fy3jzZyOzYyycfNjY74vD0SbfkmWYP3+u5z1Dwz9pgOMLQcIQhVn7+/LmZ+SSEkP16e2fnY+wasQkAAJCrJgjqb9xmErQzhPWEKvr+wmXFCxdWsKgwzfG801ylrscnOGH9KTpcIZHkl+Qya4nmvV/0ioz4hNQ8hHBcBCIR0alUWi0qT0kpapxKSC9P+xyXzpJTHBcBz8VRS6vO+JKAEMKLFLecg1Ce+PwzFXHpT9ER7okOp1VkxH9JYZlNJBJr68xObWZ2bDOzE8ltmf2nEBCse0ycj48PtAoAQK66EYLcnLN+BOfdR69F5WNrRLWnLV670W6iwi8ODsspMWqmASEy7E1AXOloo2YBAZ/+wciUg+2FaAbOb5M6NWRPBTkwrAgRDGeNJvXIayef3uGIpMPtmT3iaETqUfhRdQ5GZVbsx2+UAZo6/xPlAncAQJ+TK4QQr6r1/lvTdxZnp2VXC8ookATZZAtOcswyM+Gw+y/vfC4zMhb4LbaURfs+zkOClkvHkeBOv39R8mqVjtn1IoSGnkoMX6sEggUArV6be/vxE4Vl/qehwjatYiFsuHKBCioKvByS/1uasBgF4VcDfyClRatHCrPbPWIDBQjikgIwJkOPhVbD+M9fAAD6plx1D9xqC3dOE6l4ds4n6TeMz0BJ8nEJLBOy3L5Qne05gUJjz7/75DNPGmI2AABArvqkW8RGO+yeIJDoefJZXjc/O0T//vK0xxe+Mbt3jBPrjrOBIxBAqwAAALnqs3BJWx44bM715IDTy8JubKShF750+usRp9mRw1NloNsCAAAA5KpLgnXEY7XE453772fSuucjaLmBh3cGiK5yd5wqDWIFAADQ1jUZXNCGlgvqb3Rzypi3e6WL9I1NwwTZq+2M8o/nV+58O+yIN9t3DXQTtB8J76LzOOV19ZQEcIiSE3HX71VSlZCKgZmlsSLff08ivexb+LPgj0mZRXQBkrym8cTRmp0YDJKSH/8+LrdWQlNfU7JZjya9OPH9x0yqmJqulhQvfHWAfkMt0A6UrEe7LEcuv5VGYedeazLurhlruTMgkwIe/gNERkVy4Tm58Jx79+7p+LuKg+aLM9+luudDUdJ1O3XWHlj/1Q7EVDdUoxdHX7E3If3civ0XHrbMLeoHvek+n8wRY1UYeuprTcPaAt/x3Kx3mXjnNT+M5wsHsN6if+4bnEqg/wDRVbsQpMyP3NZLLuRjq69wogYOPmYKA4jg4F4Eg86aN5lW8MrBfPuVlEZhF6WmbkZleuGLPRYWxz+y2o8JJI1hQwbS0mI/fsmjln28ss7kc9bzJweM2p++spaB9ZjSW5opun6267rDAYB+0t4FLugIRAllKT62+grHSwKt6q2ke22/lIKQvJXTw+isTHKoj9uhmcqshj5GfuC2hSytwqnZ/UsuyIx++SgwNC498+2ZWQpMWfvgtNTpXQW4EABArgDg9yAx69oLb4dJ6pKSyobWS+cMZQVM1MSr+//NQwgJWF5+dG5uw2TWOGGdVV639wxilpMuuoYVg/8AAOQKAH4DMsuvuM5qNuw/5av/5U/MAmnO5qmyTR5349aYtVCdWSh+E/S1ElwIACBXANCU0Neh6enpHalZWVnp7+/XbjWNNRtNRJv9dhiF758kMgtcamMHNZ8GhiCpMpAlcHnkbAqcFADoLJBqAfR9pAZKaWppjB8/YcyYMSajTLS1tZtUSEtLCwkJCQkNDggI2LVrd/t3eVycLdzoUb8n57FyIGiv5klzzWv13ZTyKhqcFAAAuQKApigrK8+YMcPb2zsg4CFCSFBQcODAgdimS5cveV/3boi9JCQkltot7eLH0CuKOjB5Mk7UaNz/+OCkAADIFQC0wI7tO729vbFyKQusnJub27ja5s1beHi6OmMaJ68wllvBbeGXdn+KyC8dMEfd31rIVQeAuls9cAHQH1BTU7OxsWm7jqio6MoVK7v+GXhRWUyiqnMzS35tZGQOLgJ2J0ktq6bD2QMAkCugP7Fzx662K2zYsJGfn7/rH8Aprj1SllUiP373awMjcwpKYAeSF5vZpIGRUUYOjSuB0wmAXAFAX2XIkCFTpkxtbauQkNDaNWt/7RN4tWbNVGAWqh4fPvO27Bf2xCevgwlfTsDtmPLGWhXtNn+qUxycTQDkCgD6Mrt2tRpgrV+3XkhI6Bf3z6uzbt9kAWYp3snMYsOliOzqBqGpyHh7/9w2m2FD5tzOazfy4pIzn6/LKmWdm2d74vHnnApKcfKz03aGIzY9KoITCYBcAUDfRl9Pf+LESS0EM3x869fbs+EDuOTmuV1bq8WJECqPPLfCRE5AWFJOQZYkyk0UUTSy2XDq/kdyamF1++kTBFVb53XKrGK2/45pOnIifAPUzRyuJ9CQip37KUMOOJkAyBUA9L8Aa83qNaKiou3/Woi8eFaBm4erNb3gJE0+Gfz+6hZzVSzBsLIwJzunsJz1oBW3tL7V1osXZjce8KK1feKExxwNvL3FZEDjnQvpLj4XEeE2TYaf9R4iD2T2Av0IjlpIlAX6GRNMJwQHv2pY5ObmTk76JiEh0YG30svzsgrp/CSSKLHdOz1GRdbndzEpeT8qcYISJBklDU0lUUKn90kvSYoMj0n/QeeX1TIyVBetSxgsys6p5CYN7MBhAADIFQD0Ul6+fDFx0sSGRfv19idOnAS3AADIFQD0LGpra0ePNgmPCEcI4fH4r4lJ0tLS4BYA6OFAUwLQ/+7RODgaerDsbO1AqwAAoisA6LkB1ghDg+jo6C8JifLy8uAQAOj5QGYR0F8DrJ27HgY8BK0CAIiuAKBHw2Aw8vPzSSQSuAIAQK4AAAAAgD1AqgUAAAAAcgUAAAAAIFcAAAAAyBUAAAAAgFwBAAAAAMgVAAAAAHIFAAAAAL+V/wcAAP//h2dBKpYIPWgAAAAASUVORK5CYII=)"
      ]
    },
    {
      "cell_type": "code",
      "metadata": {
        "id": "JL1MDCTt2rgm"
      },
      "source": [
        "#Add your code to define a residual block below, as shown in the diagram above\n",
        "def residual_block(data, filters, d_rate):\n",
        "  \"\"\"\n",
        "  _data: input\n",
        "  _filters: convolution filters\n",
        "  _d_rate: dilation rate\n",
        "  \"\"\"\n",
        "  shortcut = data\n",
        "  \n",
        "  #dilation\n",
        "  bn1 = BatchNormalization()(data)\n",
        "  act1 = Activation('relu')(bn1)\n",
        "  conv1 = Conv1D(filters, 1, dilation_rate=d_rate, padding='same', kernel_regularizer=l2(0.001))(act1)\n",
        "\n",
        "  #bottleneck convolution\n",
        "  bn2 = BatchNormalization()(conv1)\n",
        "  act2 = Activation('relu')(bn2)\n",
        "  conv2 = Conv1D(filters, 3, padding='same', kernel_regularizer=l2(0.001))(act2)\n",
        "\n",
        "  #skip connection\n",
        "  x = Add()([conv2, shortcut])\n",
        "\n",
        "\n",
        "  return x"
      ],
      "execution_count": null,
      "outputs": []
    },
    {
      "cell_type": "markdown",
      "metadata": {
        "id": "1CgkdkDPidk7"
      },
      "source": [
        "**Problem 3b:** Design a simple 1D temporal convolution network around the residual networks (called below using the definition you implemented in part a) with Keras Functional API.  Include an input layer and convolution layer before the residual networks and max pooling, dropout, flatten, and output dense layers after them.  You can refer to this [paper](https://www.biorxiv.org/content/10.1101/626507v4.full) which describes the final architecture in more detail."
      ]
    },
    {
      "cell_type": "code",
      "metadata": {
        "id": "TyeMqTV02x61"
      },
      "source": [
        "#Insert your code below\n",
        "\n",
        "#input\n",
        "x_input = Input(shape=(69, 21))\n",
        "\n",
        "#initial conv\n",
        "conv = Conv1D(128, 1, padding='same')(x_input) \n",
        "\n",
        "# per-residue representation\n",
        "res1 = residual_block(conv, 128, 2)\n",
        "res2 = residual_block(res1, 128, 3)\n",
        "\n",
        "#Max Pooling\n",
        "x = MaxPooling1D(3)(res2)\n",
        "x = Dropout(0.5)(x)\n",
        "\n",
        "#softmax classifier\n",
        "x = Flatten()(x)\n",
        "x_output = Dense(1000, activation='softmax', kernel_regularizer=l2(0.0001))(x)\n",
        "\n",
        "#Compile your model\n",
        "model2 = Model(inputs=x_input, outputs=x_output)\n",
        "model2.compile(optimizer='adam', loss='categorical_crossentropy', metrics=['accuracy'])\n",
        "\n",
        "model2.summary()\n",
        "\n"
      ],
      "execution_count": null,
      "outputs": []
    },
    {
      "cell_type": "markdown",
      "metadata": {
        "id": "9-bZ0B3MxyZ-"
      },
      "source": [
        "**Problem 3c:** Train your model with early stopping using 10 epochs and a batch size of 256.  Validate with your one-hot-encoded validation data from above."
      ]
    },
    {
      "cell_type": "code",
      "metadata": {
        "id": "VKMjfxqjWoex"
      },
      "source": [
        "# Early Stopping\n",
        "es = EarlyStopping(monitor='val_loss', patience=3, verbose=1)\n",
        "\n",
        "#your code here\n",
        "history2 = model2.fit(\n",
        "    train_pad, y_train,\n",
        "    epochs=10, batch_size=256,\n",
        "    validation_data=(val_pad, y_val),\n",
        "    callbacks=[es]\n",
        "    )\n"
      ],
      "execution_count": null,
      "outputs": []
    },
    {
      "cell_type": "code",
      "metadata": {
        "id": "QOlubKMRW6_m"
      },
      "source": [
        "#Plot loss and accuracy and evaluate your model.\n",
        "plot_history(history2)\n",
        "display_model_score(\n",
        "    model2,\n",
        "    [train_ohe, y_train],\n",
        "    [val_ohe, y_val],\n",
        "    [test_ohe, y_test],\n",
        "    256)"
      ],
      "execution_count": null,
      "outputs": []
    },
    {
      "cell_type": "markdown",
      "metadata": {
        "id": "v1TnTKcEzDQC"
      },
      "source": [
        "**Problem 3d:** Provide a brief comparison of your two models in a markdown cell.  What were their train, val, and test accuracies?  Which one performed better?  Why do you think this is the case?"
      ]
    },
    {
      "cell_type": "markdown",
      "metadata": {
        "id": "LwBvSyzxGQ2x"
      },
      "source": [
        "Write your answer here..."
      ]
    },
    {
      "cell_type": "markdown",
      "metadata": {
        "id": "L-0wJKgsHVa6"
      },
      "source": [
        "**What to Submit:** Submit this ipynb with your code and short written responses in markdown cells by **November 7th at 11:59pm**."
      ]
    }
  ]
}